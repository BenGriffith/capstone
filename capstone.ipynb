{
 "cells": [
  {
   "cell_type": "markdown",
   "metadata": {},
   "source": [
    "# Machine Learning Nanodegree Capstone Project\n",
    "\n",
    "Every year, approximately 7.6 million companion animals end up in US shelters. Many animals are given up as unwanted by their owners, while others are picked up after getting lost or taken out of cruelty situations. Many of these animals find forever families to take them home, but just as many are not so lucky. \n",
    "\n",
    "Approximately 2.7 million shelter animals are euthanized in the US every year.\n",
    "\n",
    "In this multi-class classification problem, a dataset of intake information (breed, color, sex, age, etc.) provided by the Austin Animal Center will be used to train a supervised learning algorithm. The trained model will then be utilized to help predict the outcome (adoption, died, euthanasia, return to owner or transfer) of future shelter animals.\n",
    "\n",
    "Knowing the predicted outcomes can help shelters identify and understand trends in animal outcomes. Such insights could help shelters focus their resources on specific animals who might need extra help finding a new home. For example, if the predicted outcome for a certain animal or breed in a shelter is euthanasia, the shelter could align their efforts to help see these euthanasia candidates find a new home.\n",
    "\n",
    "I intend to follow the workflow outline below as closely as possible:\n",
    "\n",
    "- Step 1: Problem Preparation\n",
    "  - Load libraries\n",
    "  - Load dataset\n",
    "\n",
    "- Step 2: Data Summarization\n",
    "  - Descriptive statistics such as .info(), .describe(), .head() and .shape\n",
    "  - Data visualization such as histograms, density plots, box plots, scatter matrix and correlation matrix\n",
    "\n",
    "- Step 3: Data Preparation\n",
    "  - Data cleaning such as handling missing values\n",
    "  - Feature preparation and data transforms such as one-hot encoding\n",
    "\n",
    "- Step 4: Evaluate Algorithm(s)\n",
    "  - Split-out validation dataset\n",
    "  - Test options and evaluation metric\n",
    "  - Spot check and compare algorithms\n",
    "\n",
    "- Step 5: Improve Algorithm(s)\n",
    "  - Algorithm tuning\n",
    "  - Compare selected algorithm against Ensembles\n",
    "\n",
    "- Step 6: Model Finalization\n",
    "  - Predictions on validation / test dataset\n",
    "  - Save model for later use"
   ]
  },
  {
   "cell_type": "markdown",
   "metadata": {},
   "source": [
    "## Problem Preparation\n",
    "\n",
    "In this step, I am loading the necessary Python libraries and dataset."
   ]
  },
  {
   "cell_type": "code",
   "execution_count": 55,
   "metadata": {},
   "outputs": [],
   "source": [
    "# Load libraries\n",
    "import numpy as np\n",
    "import pandas as pd\n",
    "import matplotlib.pyplot as plt\n",
    "import util\n",
    "from sklearn.preprocessing import MinMaxScaler\n",
    "from sklearn.model_selection import train_test_split\n",
    "from sklearn.linear_model import LogisticRegression\n",
    "%matplotlib inline\n",
    "\n",
    "# Load dataset\n",
    "filepath = 'data/train.csv'\n",
    "data = pd.read_csv(filepath)"
   ]
  },
  {
   "cell_type": "markdown",
   "metadata": {},
   "source": [
    "## Data Exploration"
   ]
  },
  {
   "cell_type": "code",
   "execution_count": null,
   "metadata": {},
   "outputs": [],
   "source": [
    "# Displaying the first five records of the dataset\n",
    "data.head()"
   ]
  },
  {
   "cell_type": "code",
   "execution_count": null,
   "metadata": {},
   "outputs": [],
   "source": [
    "# Displaying the dimensions of the dataset\n",
    "print('Number of observations: %s' % data.shape[0])\n",
    "print('Number of attributes: {}'.format(data.shape[1]))"
   ]
  },
  {
   "cell_type": "code",
   "execution_count": null,
   "metadata": {},
   "outputs": [],
   "source": [
    "# Displaying detailed information about dataset\n",
    "data.info()"
   ]
  },
  {
   "cell_type": "code",
   "execution_count": null,
   "metadata": {},
   "outputs": [],
   "source": [
    "# Identify which observations are null for the AgeuponOutcome feature\n",
    "data.AgeuponOutcome[data.AgeuponOutcome.isnull()]"
   ]
  },
  {
   "cell_type": "code",
   "execution_count": null,
   "metadata": {},
   "outputs": [],
   "source": [
    "# Identify which observation is null for the SexuponOutcome feature\n",
    "data.SexuponOutcome[data.SexuponOutcome.isnull()]"
   ]
  },
  {
   "cell_type": "code",
   "execution_count": null,
   "metadata": {},
   "outputs": [],
   "source": [
    "# Display class distribution\n",
    "data.groupby('OutcomeType').size()"
   ]
  },
  {
   "cell_type": "markdown",
   "metadata": {},
   "source": [
    "## Data Preparation"
   ]
  },
  {
   "cell_type": "code",
   "execution_count": 56,
   "metadata": {},
   "outputs": [],
   "source": [
    "\n",
    "data = data.dropna(subset=['AgeuponOutcome', 'SexuponOutcome'])\n",
    "y = data[['OutcomeType']]\n",
    "data = data.drop(['AnimalID', 'Name', 'DateTime', 'OutcomeType', 'OutcomeSubtype'], axis=1)\n"
   ]
  },
  {
   "cell_type": "code",
   "execution_count": 57,
   "metadata": {},
   "outputs": [],
   "source": [
    "data.AgeuponOutcome = data.AgeuponOutcome.apply(util.convertAgeToDays)\n",
    "\n",
    "scaler = MinMaxScaler()\n",
    "data_minmax_transform = pd.DataFrame(data=data)\n",
    "numerical = ['AgeuponOutcome']\n",
    "\n",
    "data_minmax_transform[numerical] = scaler.fit_transform(data[numerical])"
   ]
  },
  {
   "cell_type": "code",
   "execution_count": 58,
   "metadata": {},
   "outputs": [],
   "source": [
    "data_final = pd.get_dummies(data_minmax_transform)"
   ]
  },
  {
   "cell_type": "code",
   "execution_count": 40,
   "metadata": {},
   "outputs": [
    {
     "data": {
      "text/html": [
       "<div>\n",
       "<style scoped>\n",
       "    .dataframe tbody tr th:only-of-type {\n",
       "        vertical-align: middle;\n",
       "    }\n",
       "\n",
       "    .dataframe tbody tr th {\n",
       "        vertical-align: top;\n",
       "    }\n",
       "\n",
       "    .dataframe thead th {\n",
       "        text-align: right;\n",
       "    }\n",
       "</style>\n",
       "<table border=\"1\" class=\"dataframe\">\n",
       "  <thead>\n",
       "    <tr style=\"text-align: right;\">\n",
       "      <th></th>\n",
       "      <th>AgeuponOutcome</th>\n",
       "      <th>AnimalType_Cat</th>\n",
       "      <th>AnimalType_Dog</th>\n",
       "      <th>SexuponOutcome_Intact Female</th>\n",
       "      <th>SexuponOutcome_Intact Male</th>\n",
       "      <th>SexuponOutcome_Neutered Male</th>\n",
       "      <th>SexuponOutcome_Spayed Female</th>\n",
       "      <th>SexuponOutcome_Unknown</th>\n",
       "      <th>Breed_Abyssinian Mix</th>\n",
       "      <th>Breed_Affenpinscher Mix</th>\n",
       "      <th>...</th>\n",
       "      <th>Color_White/Yellow</th>\n",
       "      <th>Color_White/Yellow Brindle</th>\n",
       "      <th>Color_Yellow</th>\n",
       "      <th>Color_Yellow Brindle</th>\n",
       "      <th>Color_Yellow Brindle/Blue</th>\n",
       "      <th>Color_Yellow Brindle/Tan</th>\n",
       "      <th>Color_Yellow Brindle/White</th>\n",
       "      <th>Color_Yellow/Black</th>\n",
       "      <th>Color_Yellow/White</th>\n",
       "      <th>Color_Yellow/Yellow</th>\n",
       "    </tr>\n",
       "  </thead>\n",
       "  <tbody>\n",
       "    <tr>\n",
       "      <th>0</th>\n",
       "      <td>0.050000</td>\n",
       "      <td>0</td>\n",
       "      <td>1</td>\n",
       "      <td>0</td>\n",
       "      <td>0</td>\n",
       "      <td>1</td>\n",
       "      <td>0</td>\n",
       "      <td>0</td>\n",
       "      <td>0</td>\n",
       "      <td>0</td>\n",
       "      <td>...</td>\n",
       "      <td>0</td>\n",
       "      <td>0</td>\n",
       "      <td>0</td>\n",
       "      <td>0</td>\n",
       "      <td>0</td>\n",
       "      <td>0</td>\n",
       "      <td>0</td>\n",
       "      <td>0</td>\n",
       "      <td>0</td>\n",
       "      <td>0</td>\n",
       "    </tr>\n",
       "    <tr>\n",
       "      <th>1</th>\n",
       "      <td>0.050000</td>\n",
       "      <td>1</td>\n",
       "      <td>0</td>\n",
       "      <td>0</td>\n",
       "      <td>0</td>\n",
       "      <td>0</td>\n",
       "      <td>1</td>\n",
       "      <td>0</td>\n",
       "      <td>0</td>\n",
       "      <td>0</td>\n",
       "      <td>...</td>\n",
       "      <td>0</td>\n",
       "      <td>0</td>\n",
       "      <td>0</td>\n",
       "      <td>0</td>\n",
       "      <td>0</td>\n",
       "      <td>0</td>\n",
       "      <td>0</td>\n",
       "      <td>0</td>\n",
       "      <td>0</td>\n",
       "      <td>0</td>\n",
       "    </tr>\n",
       "    <tr>\n",
       "      <th>2</th>\n",
       "      <td>0.100000</td>\n",
       "      <td>0</td>\n",
       "      <td>1</td>\n",
       "      <td>0</td>\n",
       "      <td>0</td>\n",
       "      <td>1</td>\n",
       "      <td>0</td>\n",
       "      <td>0</td>\n",
       "      <td>0</td>\n",
       "      <td>0</td>\n",
       "      <td>...</td>\n",
       "      <td>0</td>\n",
       "      <td>0</td>\n",
       "      <td>0</td>\n",
       "      <td>0</td>\n",
       "      <td>0</td>\n",
       "      <td>0</td>\n",
       "      <td>0</td>\n",
       "      <td>0</td>\n",
       "      <td>0</td>\n",
       "      <td>0</td>\n",
       "    </tr>\n",
       "    <tr>\n",
       "      <th>3</th>\n",
       "      <td>0.002877</td>\n",
       "      <td>1</td>\n",
       "      <td>0</td>\n",
       "      <td>0</td>\n",
       "      <td>1</td>\n",
       "      <td>0</td>\n",
       "      <td>0</td>\n",
       "      <td>0</td>\n",
       "      <td>0</td>\n",
       "      <td>0</td>\n",
       "      <td>...</td>\n",
       "      <td>0</td>\n",
       "      <td>0</td>\n",
       "      <td>0</td>\n",
       "      <td>0</td>\n",
       "      <td>0</td>\n",
       "      <td>0</td>\n",
       "      <td>0</td>\n",
       "      <td>0</td>\n",
       "      <td>0</td>\n",
       "      <td>0</td>\n",
       "    </tr>\n",
       "    <tr>\n",
       "      <th>4</th>\n",
       "      <td>0.100000</td>\n",
       "      <td>0</td>\n",
       "      <td>1</td>\n",
       "      <td>0</td>\n",
       "      <td>0</td>\n",
       "      <td>1</td>\n",
       "      <td>0</td>\n",
       "      <td>0</td>\n",
       "      <td>0</td>\n",
       "      <td>0</td>\n",
       "      <td>...</td>\n",
       "      <td>0</td>\n",
       "      <td>0</td>\n",
       "      <td>0</td>\n",
       "      <td>0</td>\n",
       "      <td>0</td>\n",
       "      <td>0</td>\n",
       "      <td>0</td>\n",
       "      <td>0</td>\n",
       "      <td>0</td>\n",
       "      <td>0</td>\n",
       "    </tr>\n",
       "  </tbody>\n",
       "</table>\n",
       "<p>5 rows × 1754 columns</p>\n",
       "</div>"
      ],
      "text/plain": [
       "   AgeuponOutcome  AnimalType_Cat  AnimalType_Dog  \\\n",
       "0        0.050000               0               1   \n",
       "1        0.050000               1               0   \n",
       "2        0.100000               0               1   \n",
       "3        0.002877               1               0   \n",
       "4        0.100000               0               1   \n",
       "\n",
       "   SexuponOutcome_Intact Female  SexuponOutcome_Intact Male  \\\n",
       "0                             0                           0   \n",
       "1                             0                           0   \n",
       "2                             0                           0   \n",
       "3                             0                           1   \n",
       "4                             0                           0   \n",
       "\n",
       "   SexuponOutcome_Neutered Male  SexuponOutcome_Spayed Female  \\\n",
       "0                             1                             0   \n",
       "1                             0                             1   \n",
       "2                             1                             0   \n",
       "3                             0                             0   \n",
       "4                             1                             0   \n",
       "\n",
       "   SexuponOutcome_Unknown  Breed_Abyssinian Mix  Breed_Affenpinscher Mix  ...  \\\n",
       "0                       0                     0                        0  ...   \n",
       "1                       0                     0                        0  ...   \n",
       "2                       0                     0                        0  ...   \n",
       "3                       0                     0                        0  ...   \n",
       "4                       0                     0                        0  ...   \n",
       "\n",
       "   Color_White/Yellow  Color_White/Yellow Brindle  Color_Yellow  \\\n",
       "0                   0                           0             0   \n",
       "1                   0                           0             0   \n",
       "2                   0                           0             0   \n",
       "3                   0                           0             0   \n",
       "4                   0                           0             0   \n",
       "\n",
       "   Color_Yellow Brindle  Color_Yellow Brindle/Blue  Color_Yellow Brindle/Tan  \\\n",
       "0                     0                          0                         0   \n",
       "1                     0                          0                         0   \n",
       "2                     0                          0                         0   \n",
       "3                     0                          0                         0   \n",
       "4                     0                          0                         0   \n",
       "\n",
       "   Color_Yellow Brindle/White  Color_Yellow/Black  Color_Yellow/White  \\\n",
       "0                           0                   0                   0   \n",
       "1                           0                   0                   0   \n",
       "2                           0                   0                   0   \n",
       "3                           0                   0                   0   \n",
       "4                           0                   0                   0   \n",
       "\n",
       "   Color_Yellow/Yellow  \n",
       "0                    0  \n",
       "1                    0  \n",
       "2                    0  \n",
       "3                    0  \n",
       "4                    0  \n",
       "\n",
       "[5 rows x 1754 columns]"
      ]
     },
     "execution_count": 40,
     "metadata": {},
     "output_type": "execute_result"
    }
   ],
   "source": [
    "data_final.head()"
   ]
  },
  {
   "cell_type": "code",
   "execution_count": 59,
   "metadata": {},
   "outputs": [],
   "source": [
    "X_train, X_test, y_train, y_test = train_test_split(data_final, y, test_size=0.37, random_state=42)"
   ]
  },
  {
   "cell_type": "code",
   "execution_count": 61,
   "metadata": {},
   "outputs": [
    {
     "name": "stderr",
     "output_type": "stream",
     "text": [
      "//anaconda3/lib/python3.7/site-packages/sklearn/linear_model/logistic.py:432: FutureWarning: Default solver will be changed to 'lbfgs' in 0.22. Specify a solver to silence this warning.\n",
      "  FutureWarning)\n",
      "//anaconda3/lib/python3.7/site-packages/sklearn/utils/validation.py:724: DataConversionWarning: A column-vector y was passed when a 1d array was expected. Please change the shape of y to (n_samples, ), for example using ravel().\n",
      "  y = column_or_1d(y, warn=True)\n",
      "//anaconda3/lib/python3.7/site-packages/sklearn/linear_model/logistic.py:469: FutureWarning: Default multi_class will be changed to 'auto' in 0.22. Specify the multi_class option to silence this warning.\n",
      "  \"this warning.\", FutureWarning)\n"
     ]
    },
    {
     "data": {
      "text/plain": [
       "0.6510370238307482"
      ]
     },
     "execution_count": 61,
     "metadata": {},
     "output_type": "execute_result"
    }
   ],
   "source": [
    "model = LogisticRegression()\n",
    "model.fit(X_train, y_train)\n",
    "model.score(X_train, y_train)"
   ]
  },
  {
   "cell_type": "markdown",
   "metadata": {},
   "source": []
  }
 ],
 "metadata": {
  "kernelspec": {
   "display_name": "Python 3",
   "language": "python",
   "name": "python3"
  },
  "language_info": {
   "codemirror_mode": {
    "name": "ipython",
    "version": 3
   },
   "file_extension": ".py",
   "mimetype": "text/x-python",
   "name": "python",
   "nbconvert_exporter": "python",
   "pygments_lexer": "ipython3",
   "version": "3.7.3"
  }
 },
 "nbformat": 4,
 "nbformat_minor": 2
}
