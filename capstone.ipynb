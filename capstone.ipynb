{
 "cells": [
  {
   "cell_type": "markdown",
   "metadata": {},
   "source": [
    "# Machine Learning Nanodegree Capstone Project\n",
    "\n",
    "Every year, approximately 7.6 million companion animals end up in US shelters. Many animals are given up as unwanted by their owners, while others are picked up after getting lost or taken out of cruelty situations. Many of these animals find forever families to take them home, but just as many are not so lucky. \n",
    "\n",
    "Approximately 2.7 million shelter animals are euthanized in the US every year.\n",
    "\n",
    "In this multi-class classification problem, a dataset of intake information (breed, color, sex, age, etc.) provided by the Austin Animal Center will be used to train a supervised learning algorithm. The trained model will then be utilized to help predict the outcome (adoption, died, euthanasia, return to owner or transfer) of future shelter animals.\n",
    "\n",
    "Knowing the predicted outcomes can help shelters identify and understand trends in animal outcomes. Such insights could help shelters focus their resources on specific animals who might need extra help finding a new home. For example, if the predicted outcome for a certain animal or breed in a shelter is euthanasia, the shelter could align their efforts to help see these euthanasia candidates find a new home.\n",
    "\n",
    "I intend to follow the workflow outline below as closely as possible:\n",
    "\n",
    "- Step 1: Problem Preparation\n",
    "  - Load libraries\n",
    "  - Load dataset\n",
    "\n",
    "- Step 2: Data Summarization\n",
    "  - Descriptive statistics such as .info(), .describe(), .head() and .shape\n",
    "  - Data visualization such as histograms, density plots, box plots, scatter matrix and correlation matrix\n",
    "\n",
    "- Step 3: Data Preparation\n",
    "  - Data cleaning such as handling missing values\n",
    "  - Feature preparation and data transforms such as one-hot encoding\n",
    "\n",
    "- Step 4: Evaluate Algorithm(s)\n",
    "  - Split-out validation dataset\n",
    "  - Test options and evaluation metric\n",
    "  - Spot check and compare algorithms\n",
    "\n",
    "- Step 5: Improve Algorithm(s)\n",
    "  - Algorithm tuning\n",
    "  - Compare selected algorithm against Ensembles\n",
    "\n",
    "- Step 6: Model Finalization\n",
    "  - Predictions on validation / test dataset\n",
    "  - Save model for later use"
   ]
  },
  {
   "cell_type": "markdown",
   "metadata": {},
   "source": [
    "## Problem Preparation\n",
    "\n",
    "In this step, I am loading the necessary Python libraries and dataset."
   ]
  },
  {
   "cell_type": "code",
   "execution_count": null,
   "metadata": {},
   "outputs": [],
   "source": [
    "# Load libraries\n",
    "import numpy as np\n",
    "import pandas as pd\n",
    "import matplotlib.pyplot as plt\n",
    "import util\n",
    "from sklearn.preprocessing import MinMaxScaler\n",
    "from sklearn.model_selection import train_test_split, KFold, cross_val_score, GridSearchCV\n",
    "from sklearn.linear_model import LogisticRegression\n",
    "from sklearn.discriminant_analysis import LinearDiscriminantAnalysis\n",
    "from sklearn.tree import DecisionTreeClassifier\n",
    "from sklearn.neighbors import KNeighborsClassifier\n",
    "from sklearn.naive_bayes import GaussianNB\n",
    "from sklearn.svm import SVC\n",
    "from sklearn.neural_network import MLPClassifier\n",
    "from xgboost import XGBClassifier\n",
    "from sklearn.ensemble import AdaBoostClassifier, GradientBoostingClassifier\n",
    "from sklearn.ensemble import RandomForestClassifier, ExtraTreesClassifier\n",
    "%matplotlib inline\n",
    "\n",
    "# Load dataset\n",
    "filepath = 'data/train.csv'\n",
    "data = pd.read_csv(filepath)"
   ]
  },
  {
   "cell_type": "markdown",
   "metadata": {},
   "source": [
    "## Data Exploration"
   ]
  },
  {
   "cell_type": "code",
   "execution_count": null,
   "metadata": {},
   "outputs": [],
   "source": [
    "# Displaying the first five records of the dataset\n",
    "data.head()"
   ]
  },
  {
   "cell_type": "code",
   "execution_count": null,
   "metadata": {},
   "outputs": [],
   "source": [
    "# Displaying the dimensions of the dataset\n",
    "print('Number of observations: %s' % data.shape[0])\n",
    "print('Number of attributes: {}'.format(data.shape[1]))"
   ]
  },
  {
   "cell_type": "code",
   "execution_count": null,
   "metadata": {},
   "outputs": [],
   "source": [
    "# Displaying detailed information about dataset\n",
    "data.info()"
   ]
  },
  {
   "cell_type": "code",
   "execution_count": null,
   "metadata": {},
   "outputs": [],
   "source": [
    "data['AnimalType'].value_counts()"
   ]
  },
  {
   "cell_type": "code",
   "execution_count": null,
   "metadata": {},
   "outputs": [],
   "source": [
    "data['SexuponOutcome'].value_counts()"
   ]
  },
  {
   "cell_type": "code",
   "execution_count": null,
   "metadata": {},
   "outputs": [],
   "source": [
    "data['AgeuponOutcome'].value_counts()"
   ]
  },
  {
   "cell_type": "code",
   "execution_count": null,
   "metadata": {},
   "outputs": [],
   "source": [
    "data['Breed'].value_counts()"
   ]
  },
  {
   "cell_type": "code",
   "execution_count": null,
   "metadata": {},
   "outputs": [],
   "source": [
    "data['Color'].value_counts()"
   ]
  },
  {
   "cell_type": "code",
   "execution_count": null,
   "metadata": {},
   "outputs": [],
   "source": [
    "# Identify which observations are null for the AgeuponOutcome feature\n",
    "data.AgeuponOutcome[data.AgeuponOutcome.isnull()]"
   ]
  },
  {
   "cell_type": "code",
   "execution_count": null,
   "metadata": {},
   "outputs": [],
   "source": [
    "# Identify which observation is null for the SexuponOutcome feature\n",
    "data.SexuponOutcome[data.SexuponOutcome.isnull()]"
   ]
  },
  {
   "cell_type": "code",
   "execution_count": null,
   "metadata": {},
   "outputs": [],
   "source": [
    "# Display class distribution\n",
    "x = data.groupby('OutcomeType').size()"
   ]
  },
  {
   "cell_type": "markdown",
   "metadata": {},
   "source": [
    "## Data Preparation"
   ]
  },
  {
   "cell_type": "markdown",
   "metadata": {},
   "source": [
    "### Cat"
   ]
  },
  {
   "cell_type": "code",
   "execution_count": null,
   "metadata": {},
   "outputs": [],
   "source": [
    "# Create new dataframe\n",
    "cat = data.copy()\n",
    "\n",
    "# Narrow dataframe to 'Cat' only\n",
    "cat = cat[cat['AnimalType'] == 'Cat']\n",
    "\n",
    "# Drop observations from features with NaN\n",
    "cat = cat.dropna(subset=['AgeuponOutcome', 'SexuponOutcome'])\n",
    "\n",
    "# Filter out observations with 'Unknown'\n",
    "cat = cat[cat.SexuponOutcome != 'Unknown']\n",
    "\n",
    "# Cat names below threshold are replaced with 'Known'\n",
    "cat_names = cat['Name'].value_counts()\n",
    "cat_names = cat_names[cat_names < 50]\n",
    "cat_names = list(cat_names.index)\n",
    "cat['Name'].replace(to_replace=cat_names, value='Known', inplace=True)\n",
    "\n",
    "# Cat names with NaN replaced with 'Unknown'\n",
    "cat['Name'] = cat['Name'].fillna('Unknown')\n",
    "\n",
    "# Split dataset into features and target variable\n",
    "cat_y = cat[['OutcomeType']]\n",
    "cat = cat.drop(['AnimalID', 'DateTime', 'OutcomeType', 'OutcomeSubtype'], axis=1)\n",
    "\n",
    "# Convert age to number of days\n",
    "cat['AgeuponOutcome'] = cat['AgeuponOutcome'].apply(util.convertAgeToDays)\n",
    "\n",
    "# 'Mix' and '/' removed from Breed and Color features\n",
    "cat['Breed'] = cat['Breed'].apply(util.getBreed)\n",
    "cat['Color'] = cat['Color'].apply(util.getColor)\n",
    "\n",
    "# Cat breeds below threshold are replaced with 'Other'\n",
    "cat_breeds = cat['Breed'].value_counts()\n",
    "cat_breeds = cat_breeds[cat_breeds < 50]\n",
    "cat_breeds = list(cat_breeds.index)\n",
    "cat['Breed'].replace(to_replace=cat_breeds, value='Other', inplace=True)\n",
    "\n",
    "# Cat colors below threshold are replaced with 'Other'\n",
    "cat_colors = cat['Color'].value_counts()\n",
    "cat_colors = cat_colors[cat_colors < 50]\n",
    "cat_colors = list(cat_colors.index)\n",
    "cat['Color'].replace(to_replace=cat_colors, value='Other', inplace=True)\n",
    "\n",
    "# Scale AgeuponOutcome for Cats\n",
    "scaler = MinMaxScaler()\n",
    "cat_scaled = pd.DataFrame(data=cat)\n",
    "numerical = ['AgeuponOutcome']\n",
    "cat_scaled[numerical] = scaler.fit_transform(cat[numerical])\n",
    "\n",
    "# Implement one-hot encoding for categorical features\n",
    "cat_final = pd.get_dummies(cat_scaled)"
   ]
  },
  {
   "cell_type": "markdown",
   "metadata": {},
   "source": [
    "### Dog"
   ]
  },
  {
   "cell_type": "code",
   "execution_count": null,
   "metadata": {},
   "outputs": [],
   "source": [
    "# Create new dataframe\n",
    "dog = data.copy()\n",
    "\n",
    "# Narrow dataframe to 'Dog' only\n",
    "dog = dog[dog['AnimalType'] == 'Dog']\n",
    "\n",
    "# Drop observations from features with NaN\n",
    "dog = dog.dropna(subset=['AgeuponOutcome', 'SexuponOutcome'])\n",
    "\n",
    "# Filter out observations with 'Unknown'\n",
    "dog = dog[dog['SexuponOutcome'] != 'Unknown']\n",
    "\n",
    "# Dog names below threshold are replaced with 'Known'\n",
    "dog_names = dog['Name'].value_counts()\n",
    "dog_names = dog_names[dog_names < 200]\n",
    "dog_names = list(dog_names.index)\n",
    "dog['Name'].replace(to_replace=dog_names, value='Known', inplace=True)\n",
    "\n",
    "# Dog names with NaN replaced with 'Unknown'\n",
    "dog['Name'] = dog['Name'].fillna('Unknown')\n",
    "\n",
    "# Split dataset into features and target variable\n",
    "dog_y = dog[['OutcomeType']]\n",
    "dog = dog.drop(['AnimalID', 'DateTime', 'OutcomeType', 'OutcomeSubtype'], axis=1)\n",
    "\n",
    "# Convert AgeuponOutcome to number of days\n",
    "dog['AgeuponOutcome'] = dog['AgeuponOutcome'].apply(util.convertAgeToDays)\n",
    "\n",
    "# 'Mix' and '/' removed from Breed and Color features\n",
    "dog['Breed'] = dog['Breed'].apply(util.getBreed)\n",
    "dog['Color'] = dog['Color'].apply(util.getColor)\n",
    "\n",
    "# Dog breeds below threshold are replaced with 'Other'\n",
    "dog_breeds = dog['Breed'].value_counts()\n",
    "dog_breeds = dog_breeds[dog_breeds < 50]\n",
    "dog_breeds = list(dog_breeds.index)\n",
    "dog['Breed'].replace(to_replace=dog_breeds, value='Other', inplace=True)\n",
    "\n",
    "# Dog colors below threshold are replaced with 'Other'\n",
    "dog_colors = dog['Color'].value_counts()\n",
    "dog_colors = dog_colors[dog_colors < 50]\n",
    "dog_colors = list(dog_colors.index)\n",
    "dog['Color'].replace(to_replace=dog_colors, value='Other', inplace=True)\n",
    "\n",
    "# Scale AgeuponOutcome for Dogs\n",
    "scaler = MinMaxScaler()\n",
    "dog_scaled = pd.DataFrame(data=dog)\n",
    "numerical = ['AgeuponOutcome']\n",
    "dog_scaled[numerical] = scaler.fit_transform(dog[numerical])\n",
    "\n",
    "# Implement one-hot encoding for categorical features\n",
    "dog_final = pd.get_dummies(dog_scaled)"
   ]
  },
  {
   "cell_type": "markdown",
   "metadata": {},
   "source": [
    "### Animal (Cat and Dog Combined)"
   ]
  },
  {
   "cell_type": "code",
   "execution_count": null,
   "metadata": {},
   "outputs": [],
   "source": [
    "# Create new dataframe\n",
    "animal = data.copy()\n",
    "\n",
    "# Remove rows from dataset that have null for specified features\n",
    "animal = animal.dropna(subset=['AgeuponOutcome', 'SexuponOutcome'])\n",
    "animal = animal[animal.SexuponOutcome != 'Unknown']\n",
    "\n",
    "# Animal names below threshold are replaced with 'Known'\n",
    "animal_names = animal['Name'].value_counts()\n",
    "animal_names = animal_names[animal_names < 100]\n",
    "animal_names = list(animal_names.index)\n",
    "animal['Name'].replace(to_replace=dog_names, value='Known', inplace=True)\n",
    "\n",
    "# Animal names with NaN replaced with 'Unknown'\n",
    "animal['Name'] = animal['Name'].fillna('Unknown')\n",
    "\n",
    "# Split dataset into features and target variable\n",
    "animal_y = animal[['OutcomeType']]\n",
    "animal = animal.drop(['AnimalID', 'DateTime', 'OutcomeType', 'OutcomeSubtype'], axis=1)\n",
    "\n",
    "# Convert AgeuponOutcome to number of days\n",
    "animal['AgeuponOutcome'] = animal['AgeuponOutcome'].apply(util.convertAgeToDays)\n",
    "\n",
    "# 'Mix' and '/' removed from Breed and Color features\n",
    "animal['Breed'] = animal['Breed'].apply(util.getBreed)\n",
    "animal['Color'] = animal['Breed'].apply(util.getColor)\n",
    "\n",
    "# Animal breeds below threshold are replaced with 'Other'\n",
    "animal_breeds = animal['Breed'].value_counts()\n",
    "animal_breeds = animal_breeds[animal_breeds < 50]\n",
    "animal_breeds = list(animal_breeds.index)\n",
    "animal['Breed'].replace(to_replace=animal_breeds, value='Other', inplace=True)\n",
    "\n",
    "# Animal breeds below threshold are replaced with 'Other'\n",
    "animal_colors = animal['Color'].value_counts()\n",
    "animal_colors = animal_colors[animal_colors < 50]\n",
    "animal_colors = list(animal_colors.index)\n",
    "animal['Color'].replace(to_replace=animal_colors, value='Other', inplace=True)\n",
    "\n",
    "# Scale AgeuponOutcome\n",
    "scaler = MinMaxScaler()\n",
    "animal_scaled = pd.DataFrame(data=animal)\n",
    "numerical = ['AgeuponOutcome']\n",
    "animal_scaled[numerical] = scaler.fit_transform(animal[numerical])\n",
    "\n",
    "# Implement one-hot encoding for categorical features\n",
    "animal_final = pd.get_dummies(animal_scaled)"
   ]
  },
  {
   "cell_type": "markdown",
   "metadata": {},
   "source": [
    "## Evaluate Algorithms"
   ]
  },
  {
   "cell_type": "code",
   "execution_count": null,
   "metadata": {},
   "outputs": [],
   "source": [
    "def modelSelection(final_x, final_y):\n",
    "    \n",
    "    # Split into train and test set\n",
    "    X_train, X_test, y_train, y_test = train_test_split(final_x, final_y, test_size=0.40, random_state=42)\n",
    "\n",
    "    # Spot-check algorithms\n",
    "    models = []\n",
    "    models.append(('LG', LogisticRegression(solver='liblinear', multi_class='ovr'))) # Benchmark model\n",
    "    models.append(('CART', DecisionTreeClassifier()))\n",
    "    models.append(('KNN', KNeighborsClassifier()))\n",
    "    models.append(('XGB', XGBClassifier()))\n",
    "    models.append(('MLP', MLPClassifier()))\n",
    "    models.append(('SVM', SVC(gamma='auto')))\n",
    "\n",
    "    results = []\n",
    "    names = []\n",
    "\n",
    "    for name, model in models:\n",
    "        kfold = KFold(n_splits=5, random_state=42)\n",
    "        cv_results = cross_val_score(model, X_train, y_train.values.ravel(), cv=kfold, scoring='accuracy')\n",
    "        results.append(cv_results)\n",
    "        names.append(name)\n",
    "    \n",
    "        print('{}: {}'.format(name, cv_results.mean()))"
   ]
  },
  {
   "cell_type": "code",
   "execution_count": null,
   "metadata": {},
   "outputs": [],
   "source": [
    "modelSelection(cat_final, cat_y)"
   ]
  },
  {
   "cell_type": "code",
   "execution_count": null,
   "metadata": {},
   "outputs": [],
   "source": [
    "modelSelection(dog_final, dog_y)"
   ]
  },
  {
   "cell_type": "code",
   "execution_count": null,
   "metadata": {},
   "outputs": [],
   "source": [
    "modelSelection(animal_final, animal_y)"
   ]
  },
  {
   "cell_type": "markdown",
   "metadata": {},
   "source": [
    "## Algorithm Improvement"
   ]
  },
  {
   "cell_type": "code",
   "execution_count": null,
   "metadata": {},
   "outputs": [],
   "source": [
    "# Cat\n",
    "depth = [1, 2, 3, 4, 5, 6, 7, 8]\n",
    "child_weight = [1, 2, 3]\n",
    "sample = [0.25, 0.50, 0.75]\n",
    "param_grid = dict(max_depth=depth, min_child_weight=child_weight, subsample=sample)\n",
    "model = XGBClassifier()\n",
    "kfold = KFold(n_splits=5, random_state=42)\n",
    "grid = GridSearchCV(estimator=model, param_grid=param_grid, scoring='accuracy', cv=kfold, iid=True)\n",
    "grid_result = grid.fit(cat_final, cat_y)\n",
    "\n",
    "print('Best: %f using %s' % (grid_result.best_score_, grid_result.best_params_))\n",
    "means = grid_result.cv_results_['mean_test_score']\n",
    "stds = grid_result.cv_results_['std_test_score']\n",
    "params = grid_result.cv_results_['params']\n",
    "for mean, stdev, param in zip(means, stds, params):\n",
    "    print('%f, (%f) with: %r' % (mean, stdev, param))"
   ]
  },
  {
   "cell_type": "code",
   "execution_count": null,
   "metadata": {},
   "outputs": [],
   "source": [
    "# Dog\n",
    "depth = [1, 2, 3, 4, 5, 6, 7, 8]\n",
    "child_weight = [1, 2, 3]\n",
    "sample = [0.25, 0.50, 0.75]\n",
    "param_grid = dict(max_depth=depth, min_child_weight=child_weight, subsample=sample)\n",
    "model = XGBClassifier()\n",
    "kfold = KFold(n_splits=5, random_state=42)\n",
    "grid = GridSearchCV(estimator=model, param_grid=param_grid, scoring='accuracy', cv=kfold, iid=True)\n",
    "grid_result = grid.fit(dog_final, dog_y)\n",
    "\n",
    "print('Best: %f using %s' % (grid_result.best_score_, grid_result.best_params_))\n",
    "means = grid_result.cv_results_['mean_test_score']\n",
    "stds = grid_result.cv_results_['std_test_score']\n",
    "params = grid_result.cv_results_['params']\n",
    "for mean, stdev, param in zip(means, stds, params):\n",
    "    print('%f, (%f) with: %r' % (mean, stdev, param))"
   ]
  },
  {
   "cell_type": "code",
   "execution_count": null,
   "metadata": {},
   "outputs": [],
   "source": [
    "depth = [1, 2, 3, 4, 5, 6, 7, 8]\n",
    "child_weight = [1, 2, 3]\n",
    "sample = [0.25, 0.50, 0.75]\n",
    "param_grid = dict(max_depth=depth, min_child_weight=child_weight, subsample=sample)\n",
    "model = XGBClassifier()\n",
    "kfold = KFold(n_splits=5, random_state=42)\n",
    "grid = GridSearchCV(estimator=model, param_grid=param_grid, scoring='accuracy', cv=kfold, iid=True)\n",
    "grid_result = grid.fit(animal_final, animal_y)\n",
    "\n",
    "print('Best: %f using %s' % (grid_result.best_score_, grid_result.best_params_))\n",
    "means = grid_result.cv_results_['mean_test_score']\n",
    "stds = grid_result.cv_results_['std_test_score']\n",
    "params = grid_result.cv_results_['params']\n",
    "for mean, stdev, param in zip(means, stds, params):\n",
    "    print('%f, (%f) with: %r' % (mean, stdev, param))"
   ]
  },
  {
   "cell_type": "code",
   "execution_count": null,
   "metadata": {},
   "outputs": [],
   "source": [
    "def modelEnsemble(final_x, final_y):\n",
    "    \n",
    "    # Split into train and test set\n",
    "    X_train, X_test, y_train, y_test = train_test_split(final_x, final_y, test_size=0.40, random_state=42)\n",
    "\n",
    "    # Ensembles\n",
    "    ensembles = []\n",
    "    ensembles.append(('AB', AdaBoostClassifier()))\n",
    "    ensembles.append(('GBM', GradientBoostingClassifier()))\n",
    "    ensembles.append(('RF', RandomForestClassifier(n_estimators=10)))\n",
    "    eensembles.append(('ET', ExtraTreesClassifier(n_estimators=10)))\n",
    "\n",
    "    results = []\n",
    "    names = []\n",
    "\n",
    "    for name, model in ensembles:\n",
    "        kfold = KFold(n_splits=5, random_state=42)\n",
    "        cv_results = cross_val_score(model, X_train, y_train.values.ravel(), cv=kfold, scoring='accuracy')\n",
    "        results.append(cv_results)\n",
    "        names.append(name)\n",
    "    \n",
    "        print('{} {}'.format(name, cv_results.mean()))"
   ]
  },
  {
   "cell_type": "code",
   "execution_count": null,
   "metadata": {},
   "outputs": [],
   "source": [
    "modelEnsemble(cat_final, cat_y)"
   ]
  },
  {
   "cell_type": "code",
   "execution_count": null,
   "metadata": {},
   "outputs": [],
   "source": [
    "modelEnsemble(dog_final, dog_y)"
   ]
  },
  {
   "cell_type": "code",
   "execution_count": null,
   "metadata": {},
   "outputs": [],
   "source": [
    "modelEnsemble(animal_final, animal_y)"
   ]
  }
 ],
 "metadata": {
  "kernelspec": {
   "display_name": "Python 3",
   "language": "python",
   "name": "python3"
  },
  "language_info": {
   "codemirror_mode": {
    "name": "ipython",
    "version": 3
   },
   "file_extension": ".py",
   "mimetype": "text/x-python",
   "name": "python",
   "nbconvert_exporter": "python",
   "pygments_lexer": "ipython3",
   "version": "3.7.3"
  }
 },
 "nbformat": 4,
 "nbformat_minor": 2
}
