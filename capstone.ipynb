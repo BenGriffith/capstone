{
 "cells": [
  {
   "cell_type": "markdown",
   "metadata": {},
   "source": [
    "# Machine Learning Nanodegree Capstone Project\n",
    "\n",
    "Every year, approximately 7.6 million companion animals end up in US shelters. Many animals are given up as unwanted by their owners, while others are picked up after getting lost or taken out of cruelty situations. Many of these animals find forever families to take them home, but just as many are not so lucky. \n",
    "\n",
    "Approximately 2.7 million shelter animals are euthanized in the US every year.\n",
    "\n",
    "In this multi-class classification problem, a dataset of intake information (breed, color, sex, age, etc.) provided by the Austin Animal Center will be used to train a supervised learning algorithm. The trained model will then be utilized to help predict the outcome (adoption, died, euthanasia, return to owner or transfer) of future shelter animals.\n",
    "\n",
    "Knowing the predicted outcomes can help shelters identify and understand trends in animal outcomes. Such insights could help shelters focus their resources on specific animals who might need extra help finding a new home. For example, if the predicted outcome for a certain animal or breed in a shelter is euthanasia, the shelter could align their efforts to help see these euthanasia candidates find a new home.\n",
    "\n",
    "I intend to follow the workflow outline below as closely as possible:\n",
    "\n",
    "- Step 1: Problem Preparation\n",
    "  - Load libraries\n",
    "  - Load dataset\n",
    "\n",
    "- Step 2: Data Summarization\n",
    "  - Descriptive statistics such as .info(), .describe(), .head() and .shape\n",
    "  - Data visualization such as histograms, density plots, box plots, scatter matrix and correlation matrix\n",
    "\n",
    "- Step 3: Data Preparation\n",
    "  - Data cleaning such as handling missing values\n",
    "  - Feature preparation and data transforms such as one-hot encoding\n",
    "\n",
    "- Step 4: Evaluate Algorithm(s)\n",
    "  - Split-out validation dataset\n",
    "  - Test options and evaluation metric\n",
    "  - Spot check and compare algorithms\n",
    "\n",
    "- Step 5: Improve Algorithm(s)\n",
    "  - Algorithm tuning\n",
    "  - Compare selected algorithm against Ensembles\n",
    "\n",
    "- Step 6: Model Finalization\n",
    "  - Predictions on validation / test dataset"
   ]
  },
  {
   "cell_type": "markdown",
   "metadata": {},
   "source": [
    "## Problem Preparation\n",
    "\n",
    "In this step, I am loading the necessary Python libraries and dataset."
   ]
  },
  {
   "cell_type": "code",
   "execution_count": 68,
   "metadata": {},
   "outputs": [],
   "source": [
    "# Load libraries\n",
    "import numpy as np\n",
    "import pandas as pd\n",
    "import matplotlib.pyplot as plt\n",
    "import util\n",
    "from sklearn.preprocessing import MinMaxScaler\n",
    "from sklearn.model_selection import train_test_split, KFold, cross_val_score, GridSearchCV\n",
    "from sklearn.metrics import accuracy_score, f1_score\n",
    "from sklearn.linear_model import LogisticRegression\n",
    "from sklearn.tree import DecisionTreeClassifier\n",
    "from sklearn.neighbors import KNeighborsClassifier\n",
    "from sklearn.naive_bayes import GaussianNB\n",
    "from sklearn.svm import SVC\n",
    "from xgboost import XGBClassifier\n",
    "from sklearn.ensemble import AdaBoostClassifier, GradientBoostingClassifier\n",
    "from sklearn.ensemble import RandomForestClassifier, ExtraTreesClassifier\n",
    "%matplotlib inline\n",
    "\n",
    "# Load dataset\n",
    "filepath = 'data/train.csv'\n",
    "data = pd.read_csv(filepath)"
   ]
  },
  {
   "cell_type": "markdown",
   "metadata": {},
   "source": [
    "## Data Exploration\n",
    "\n",
    "My aim was to learn more about the data through descriptive statistics and data visualization. I utilized info(), describe(), head(), shape along with value_counts, isnull() and class distribution. Regarding data visualization, I plotted two bar charts and one line chart."
   ]
  },
  {
   "cell_type": "code",
   "execution_count": 31,
   "metadata": {},
   "outputs": [
    {
     "data": {
      "text/html": [
       "<div>\n",
       "<style scoped>\n",
       "    .dataframe tbody tr th:only-of-type {\n",
       "        vertical-align: middle;\n",
       "    }\n",
       "\n",
       "    .dataframe tbody tr th {\n",
       "        vertical-align: top;\n",
       "    }\n",
       "\n",
       "    .dataframe thead th {\n",
       "        text-align: right;\n",
       "    }\n",
       "</style>\n",
       "<table border=\"1\" class=\"dataframe\">\n",
       "  <thead>\n",
       "    <tr style=\"text-align: right;\">\n",
       "      <th></th>\n",
       "      <th>AnimalID</th>\n",
       "      <th>Name</th>\n",
       "      <th>DateTime</th>\n",
       "      <th>OutcomeType</th>\n",
       "      <th>OutcomeSubtype</th>\n",
       "      <th>AnimalType</th>\n",
       "      <th>SexuponOutcome</th>\n",
       "      <th>AgeuponOutcome</th>\n",
       "      <th>Breed</th>\n",
       "      <th>Color</th>\n",
       "    </tr>\n",
       "  </thead>\n",
       "  <tbody>\n",
       "    <tr>\n",
       "      <th>0</th>\n",
       "      <td>A671945</td>\n",
       "      <td>Hambone</td>\n",
       "      <td>2014-02-12 18:22:00</td>\n",
       "      <td>Return_to_owner</td>\n",
       "      <td>NaN</td>\n",
       "      <td>Dog</td>\n",
       "      <td>Neutered Male</td>\n",
       "      <td>1 year</td>\n",
       "      <td>Shetland Sheepdog Mix</td>\n",
       "      <td>Brown/White</td>\n",
       "    </tr>\n",
       "    <tr>\n",
       "      <th>1</th>\n",
       "      <td>A656520</td>\n",
       "      <td>Emily</td>\n",
       "      <td>2013-10-13 12:44:00</td>\n",
       "      <td>Euthanasia</td>\n",
       "      <td>Suffering</td>\n",
       "      <td>Cat</td>\n",
       "      <td>Spayed Female</td>\n",
       "      <td>1 year</td>\n",
       "      <td>Domestic Shorthair Mix</td>\n",
       "      <td>Cream Tabby</td>\n",
       "    </tr>\n",
       "    <tr>\n",
       "      <th>2</th>\n",
       "      <td>A686464</td>\n",
       "      <td>Pearce</td>\n",
       "      <td>2015-01-31 12:28:00</td>\n",
       "      <td>Adoption</td>\n",
       "      <td>Foster</td>\n",
       "      <td>Dog</td>\n",
       "      <td>Neutered Male</td>\n",
       "      <td>2 years</td>\n",
       "      <td>Pit Bull Mix</td>\n",
       "      <td>Blue/White</td>\n",
       "    </tr>\n",
       "    <tr>\n",
       "      <th>3</th>\n",
       "      <td>A683430</td>\n",
       "      <td>NaN</td>\n",
       "      <td>2014-07-11 19:09:00</td>\n",
       "      <td>Transfer</td>\n",
       "      <td>Partner</td>\n",
       "      <td>Cat</td>\n",
       "      <td>Intact Male</td>\n",
       "      <td>3 weeks</td>\n",
       "      <td>Domestic Shorthair Mix</td>\n",
       "      <td>Blue Cream</td>\n",
       "    </tr>\n",
       "    <tr>\n",
       "      <th>4</th>\n",
       "      <td>A667013</td>\n",
       "      <td>NaN</td>\n",
       "      <td>2013-11-15 12:52:00</td>\n",
       "      <td>Transfer</td>\n",
       "      <td>Partner</td>\n",
       "      <td>Dog</td>\n",
       "      <td>Neutered Male</td>\n",
       "      <td>2 years</td>\n",
       "      <td>Lhasa Apso/Miniature Poodle</td>\n",
       "      <td>Tan</td>\n",
       "    </tr>\n",
       "  </tbody>\n",
       "</table>\n",
       "</div>"
      ],
      "text/plain": [
       "  AnimalID     Name             DateTime      OutcomeType OutcomeSubtype  \\\n",
       "0  A671945  Hambone  2014-02-12 18:22:00  Return_to_owner            NaN   \n",
       "1  A656520    Emily  2013-10-13 12:44:00       Euthanasia      Suffering   \n",
       "2  A686464   Pearce  2015-01-31 12:28:00         Adoption         Foster   \n",
       "3  A683430      NaN  2014-07-11 19:09:00         Transfer        Partner   \n",
       "4  A667013      NaN  2013-11-15 12:52:00         Transfer        Partner   \n",
       "\n",
       "  AnimalType SexuponOutcome AgeuponOutcome                        Breed  \\\n",
       "0        Dog  Neutered Male         1 year        Shetland Sheepdog Mix   \n",
       "1        Cat  Spayed Female         1 year       Domestic Shorthair Mix   \n",
       "2        Dog  Neutered Male        2 years                 Pit Bull Mix   \n",
       "3        Cat    Intact Male        3 weeks       Domestic Shorthair Mix   \n",
       "4        Dog  Neutered Male        2 years  Lhasa Apso/Miniature Poodle   \n",
       "\n",
       "         Color  \n",
       "0  Brown/White  \n",
       "1  Cream Tabby  \n",
       "2   Blue/White  \n",
       "3   Blue Cream  \n",
       "4          Tan  "
      ]
     },
     "execution_count": 31,
     "metadata": {},
     "output_type": "execute_result"
    }
   ],
   "source": [
    "# Displaying the first five records of the dataset\n",
    "data.head()"
   ]
  },
  {
   "cell_type": "code",
   "execution_count": 32,
   "metadata": {},
   "outputs": [
    {
     "name": "stdout",
     "output_type": "stream",
     "text": [
      "Number of observations: 26729\n",
      "Number of attributes: 10\n"
     ]
    }
   ],
   "source": [
    "# Displaying the dimensions of the dataset\n",
    "print('Number of observations: %s' % data.shape[0])\n",
    "print('Number of attributes: {}'.format(data.shape[1]))"
   ]
  },
  {
   "cell_type": "code",
   "execution_count": 33,
   "metadata": {},
   "outputs": [
    {
     "name": "stdout",
     "output_type": "stream",
     "text": [
      "<class 'pandas.core.frame.DataFrame'>\n",
      "RangeIndex: 26729 entries, 0 to 26728\n",
      "Data columns (total 10 columns):\n",
      "AnimalID          26729 non-null object\n",
      "Name              19038 non-null object\n",
      "DateTime          26729 non-null object\n",
      "OutcomeType       26729 non-null object\n",
      "OutcomeSubtype    13117 non-null object\n",
      "AnimalType        26729 non-null object\n",
      "SexuponOutcome    26728 non-null object\n",
      "AgeuponOutcome    26711 non-null object\n",
      "Breed             26729 non-null object\n",
      "Color             26729 non-null object\n",
      "dtypes: object(10)\n",
      "memory usage: 2.0+ MB\n"
     ]
    }
   ],
   "source": [
    "# Displaying detailed information about dataset\n",
    "data.info()"
   ]
  },
  {
   "cell_type": "code",
   "execution_count": 34,
   "metadata": {},
   "outputs": [
    {
     "data": {
      "text/plain": [
       "Dog    15595\n",
       "Cat    11134\n",
       "Name: AnimalType, dtype: int64"
      ]
     },
     "execution_count": 34,
     "metadata": {},
     "output_type": "execute_result"
    }
   ],
   "source": [
    "y = data['AnimalType'].value_counts()\n",
    "y"
   ]
  },
  {
   "cell_type": "code",
   "execution_count": 35,
   "metadata": {},
   "outputs": [
    {
     "data": {
      "image/png": "[encoded data removed]",
      "text/plain": [
       "<Figure size 432x288 with 1 Axes>"
      ]
     },
     "metadata": {
      "needs_background": "light"
     },
     "output_type": "display_data"
    }
   ],
   "source": [
    "x = ['Dog', 'Cat']\n",
    "plt.bar(x, y)\n",
    "plt.xlabel('Animal Type')\n",
    "plt.ylabel('Number of Observations')\n",
    "plt.show()"
   ]
  },
  {
   "cell_type": "code",
   "execution_count": 36,
   "metadata": {},
   "outputs": [
    {
     "data": {
      "text/plain": [
       "Neutered Male    9779\n",
       "Spayed Female    8820\n",
       "Intact Male      3525\n",
       "Intact Female    3511\n",
       "Unknown          1093\n",
       "Name: SexuponOutcome, dtype: int64"
      ]
     },
     "execution_count": 36,
     "metadata": {},
     "output_type": "execute_result"
    }
   ],
   "source": [
    "y = data['SexuponOutcome'].value_counts()\n",
    "y"
   ]
  },
  {
   "cell_type": "code",
   "execution_count": 37,
   "metadata": {},
   "outputs": [
    {
     "data": {
      "image/png": "[encoded data removed]",
      "text/plain": [
       "<Figure size 432x288 with 1 Axes>"
      ]
     },
     "metadata": {
      "needs_background": "light"
     },
     "output_type": "display_data"
    }
   ],
   "source": [
    "fig, ax = plt.subplots()\n",
    "sex = ['Neutered Male', 'Spayed Female', 'Intact Male', 'Intact Female', 'Unknown']\n",
    "y_pos = np.arange(len(sex))\n",
    "ax.barh(y_pos, y)\n",
    "ax.set_yticks(y_pos)\n",
    "ax.set_yticklabels(sex)\n",
    "plt.xlabel('Number of Observations')\n",
    "ax.invert_yaxis()\n",
    "plt.show()"
   ]
  },
  {
   "cell_type": "code",
   "execution_count": 38,
   "metadata": {},
   "outputs": [
    {
     "data": {
      "text/plain": [
       "1 year       3969\n",
       "2 years      3742\n",
       "2 months     3397\n",
       "3 years      1823\n",
       "1 month      1281\n",
       "3 months     1277\n",
       "4 years      1071\n",
       "5 years       992\n",
       "4 months      888\n",
       "6 years       670\n",
       "3 weeks       659\n",
       "5 months      652\n",
       "6 months      588\n",
       "8 years       536\n",
       "7 years       531\n",
       "2 weeks       529\n",
       "10 months     457\n",
       "10 years      446\n",
       "8 months      402\n",
       "4 weeks       334\n",
       "9 years       288\n",
       "7 months      288\n",
       "12 years      234\n",
       "9 months      224\n",
       "1 weeks       171\n",
       "11 months     166\n",
       "1 week        146\n",
       "13 years      143\n",
       "11 years      126\n",
       "3 days        109\n",
       "2 days         99\n",
       "14 years       97\n",
       "15 years       85\n",
       "1 day          66\n",
       "4 days         50\n",
       "6 days         50\n",
       "16 years       36\n",
       "5 days         24\n",
       "0 years        22\n",
       "17 years       17\n",
       "5 weeks        11\n",
       "18 years       10\n",
       "19 years        3\n",
       "20 years        2\n",
       "Name: AgeuponOutcome, dtype: int64"
      ]
     },
     "execution_count": 38,
     "metadata": {},
     "output_type": "execute_result"
    }
   ],
   "source": [
    "data['AgeuponOutcome'].value_counts()"
   ]
  },
  {
   "cell_type": "code",
   "execution_count": 39,
   "metadata": {},
   "outputs": [
    {
     "data": {
      "text/plain": [
       "Domestic Shorthair Mix                            8810\n",
       "Pit Bull Mix                                      1906\n",
       "Chihuahua Shorthair Mix                           1766\n",
       "Labrador Retriever Mix                            1363\n",
       "Domestic Medium Hair Mix                           839\n",
       "German Shepherd Mix                                575\n",
       "Domestic Longhair Mix                              520\n",
       "Siamese Mix                                        389\n",
       "Australian Cattle Dog Mix                          367\n",
       "Dachshund Mix                                      318\n",
       "Boxer Mix                                          245\n",
       "Miniature Poodle Mix                               233\n",
       "Border Collie Mix                                  229\n",
       "Australian Shepherd Mix                            163\n",
       "Rat Terrier Mix                                    157\n",
       "Catahoula Mix                                      157\n",
       "Jack Russell Terrier Mix                           146\n",
       "Domestic Shorthair                                 143\n",
       "Yorkshire Terrier Mix                              143\n",
       "Chihuahua Longhair Mix                             142\n",
       "Siberian Husky Mix                                 138\n",
       "Miniature Schnauzer Mix                            136\n",
       "Beagle Mix                                         124\n",
       "Rottweiler Mix                                     113\n",
       "American Bulldog Mix                               109\n",
       "Cairn Terrier Mix                                  102\n",
       "Shih Tzu Mix                                       100\n",
       "Chihuahua Shorthair/Dachshund                       98\n",
       "Australian Kelpie Mix                               95\n",
       "Staffordshire Mix                                   94\n",
       "                                                  ... \n",
       "Pekingese/Dachshund                                  1\n",
       "Dachshund/Basset Hound                               1\n",
       "Shetland Sheepdog/Basenji                            1\n",
       "Australian Cattle Dog/Rat Terrier                    1\n",
       "Dachshund Longhair/Pembroke Welsh Corgi              1\n",
       "Domestic Longhair/Rex                                1\n",
       "Cardigan Welsh Corgi                                 1\n",
       "English Bulldog/Dachshund                            1\n",
       "Tibetan Spaniel                                      1\n",
       "Dachshund/German Pinscher                            1\n",
       "Queensland Heeler/Border Collie                      1\n",
       "Yorkshire Terrier/Parson Russell Terrier             1\n",
       "Rat Terrier/Queensland Heeler                        1\n",
       "Flat Coat Retriever/Golden Retriever                 1\n",
       "Anatol Shepherd/Australian Shepherd                  1\n",
       "Devon Rex                                            1\n",
       "Golden Retriever/Finnish Spitz                       1\n",
       "St. Bernard Rough Coat/Labrador Retriever            1\n",
       "Akita/German Shepherd                                1\n",
       "Welsh Springer Spaniel                               1\n",
       "Boston Terrier/Beagle                                1\n",
       "Dalmatian/Labrador Retriever                         1\n",
       "Pembroke Welsh Corgi/Pit Bull                        1\n",
       "Beagle/American Staffordshire Terrier                1\n",
       "German Shorthair Pointer/Australian Cattle Dog       1\n",
       "Belgian Tervuren Mix                                 1\n",
       "Pharaoh Hound/Border Collie                          1\n",
       "Jack Russell Terrier/Italian Greyhound               1\n",
       "Rat Terrier/Pointer                                  1\n",
       "Doberman Pinsch/Australian Cattle Dog                1\n",
       "Name: Breed, Length: 1380, dtype: int64"
      ]
     },
     "execution_count": 39,
     "metadata": {},
     "output_type": "execute_result"
    }
   ],
   "source": [
    "data['Breed'].value_counts()"
   ]
  },
  {
   "cell_type": "code",
   "execution_count": 40,
   "metadata": {},
   "outputs": [
    {
     "data": {
      "text/plain": [
       "Black/White                2824\n",
       "Black                      2292\n",
       "Brown Tabby                1635\n",
       "Brown Tabby/White           940\n",
       "White                       931\n",
       "Brown/White                 884\n",
       "Orange Tabby                841\n",
       "Tan/White                   773\n",
       "Tricolor                    752\n",
       "Blue/White                  702\n",
       "Black/Tan                   672\n",
       "White/Black                 643\n",
       "Brown                       639\n",
       "Tan                         628\n",
       "White/Brown                 569\n",
       "Tortie                      530\n",
       "Calico                      517\n",
       "Orange Tabby/White          455\n",
       "Blue                        450\n",
       "Brown Brindle/White         450\n",
       "Black/Brown                 436\n",
       "Blue Tabby                  433\n",
       "White/Tan                   389\n",
       "Red                         337\n",
       "Torbie                      335\n",
       "Brown/Black                 333\n",
       "Red/White                   331\n",
       "Blue Tabby/White            241\n",
       "Brown Brindle               232\n",
       "Chocolate/White             224\n",
       "                           ... \n",
       "Orange Tabby/Apricot          1\n",
       "Blue Merle/Blue Merle         1\n",
       "Calico/Orange Tabby           1\n",
       "Black/Yellow                  1\n",
       "Orange/Tan                    1\n",
       "Orange Tabby/Black            1\n",
       "Tricolor/Brown Merle          1\n",
       "Blue/Orange                   1\n",
       "Calico/Blue Cream             1\n",
       "Tortie Point/Lynx Point       1\n",
       "Lynx Point/Gray Tabby         1\n",
       "Gold/Black                    1\n",
       "Red Tick/Brown                1\n",
       "Brown/Black Tabby             1\n",
       "Blue/Tortie                   1\n",
       "White/Flame Point             1\n",
       "Black/Silver Tabby            1\n",
       "Brown/Brown Merle             1\n",
       "Pink                          1\n",
       "Brown Tabby/Brown             1\n",
       "Blue Tabby/Blue Cream         1\n",
       "Fawn/Tricolor                 1\n",
       "Orange/Orange Tabby           1\n",
       "Fawn/Brown Brindle            1\n",
       "Red Tick/Black                1\n",
       "Chocolate/Red Tick            1\n",
       "Calico/Brown                  1\n",
       "Torbie/Calico                 1\n",
       "Blue Tiger                    1\n",
       "White/Calico                  1\n",
       "Name: Color, Length: 366, dtype: int64"
      ]
     },
     "execution_count": 40,
     "metadata": {},
     "output_type": "execute_result"
    }
   ],
   "source": [
    "data['Color'].value_counts()"
   ]
  },
  {
   "cell_type": "code",
   "execution_count": 41,
   "metadata": {},
   "outputs": [
    {
     "data": {
      "text/plain": [
       "2480     NaN\n",
       "2912     NaN\n",
       "3766     NaN\n",
       "3875     NaN\n",
       "4498     NaN\n",
       "5137     NaN\n",
       "5691     NaN\n",
       "7005     NaN\n",
       "8420     NaN\n",
       "17464    NaN\n",
       "18490    NaN\n",
       "19927    NaN\n",
       "21523    NaN\n",
       "22380    NaN\n",
       "22448    NaN\n",
       "24328    NaN\n",
       "26551    NaN\n",
       "26570    NaN\n",
       "Name: AgeuponOutcome, dtype: object"
      ]
     },
     "execution_count": 41,
     "metadata": {},
     "output_type": "execute_result"
    }
   ],
   "source": [
    "# Identify which observations are null for the AgeuponOutcome feature\n",
    "data.AgeuponOutcome[data.AgeuponOutcome.isnull()]"
   ]
  },
  {
   "cell_type": "code",
   "execution_count": 42,
   "metadata": {},
   "outputs": [
    {
     "data": {
      "text/plain": [
       "3174    NaN\n",
       "Name: SexuponOutcome, dtype: object"
      ]
     },
     "execution_count": 42,
     "metadata": {},
     "output_type": "execute_result"
    }
   ],
   "source": [
    "# Identify which observation is null for the SexuponOutcome feature\n",
    "data.SexuponOutcome[data.SexuponOutcome.isnull()]"
   ]
  },
  {
   "cell_type": "code",
   "execution_count": 43,
   "metadata": {},
   "outputs": [
    {
     "data": {
      "text/plain": [
       "OutcomeType\n",
       "Adoption           10769\n",
       "Died                 197\n",
       "Euthanasia          1555\n",
       "Return_to_owner     4786\n",
       "Transfer            9422\n",
       "dtype: int64"
      ]
     },
     "execution_count": 43,
     "metadata": {},
     "output_type": "execute_result"
    }
   ],
   "source": [
    "# Display class distribution\n",
    "y = data.groupby('OutcomeType').size()\n",
    "y"
   ]
  },
  {
   "cell_type": "code",
   "execution_count": 44,
   "metadata": {},
   "outputs": [
    {
     "data": {
      "text/plain": [
       "[<matplotlib.lines.Line2D at 0x249809398d0>]"
      ]
     },
     "execution_count": 44,
     "metadata": {},
     "output_type": "execute_result"
    },
    {
     "data": {
      "image/png": "[encoded data removed]",
      "text/plain": [
       "<Figure size 432x288 with 1 Axes>"
      ]
     },
     "metadata": {
      "needs_background": "light"
     },
     "output_type": "display_data"
    }
   ],
   "source": [
    "x = ['Adoption', 'Died', 'Euthanasia', 'Return to Owner', 'Transfer']\n",
    "plt.xlabel('Outcome')\n",
    "plt.ylabel('Number of Observations')\n",
    "plt.plot(x, y)"
   ]
  },
  {
   "cell_type": "markdown",
   "metadata": {},
   "source": [
    "## Data Preparation\n",
    "\n",
    "For data preparation, I decided to split the dataset into two segments: Cat and Dog.\n",
    "\n",
    "- Cat contains only Cats\n",
    "- Dog contains only Dogs"
   ]
  },
  {
   "cell_type": "markdown",
   "metadata": {},
   "source": [
    "### Cat"
   ]
  },
  {
   "cell_type": "code",
   "execution_count": 45,
   "metadata": {},
   "outputs": [],
   "source": [
    "# Create new dataframe\n",
    "cat = data.copy()\n",
    "\n",
    "# Narrow dataframe to 'Cat' only\n",
    "cat = cat[cat['AnimalType'] == 'Cat']\n",
    "\n",
    "# Drop observations from features with NaN\n",
    "cat = cat.dropna(subset=['AgeuponOutcome', 'SexuponOutcome'])\n",
    "\n",
    "# Filter out observations with 'Unknown'\n",
    "cat = cat[cat.SexuponOutcome != 'Unknown']\n",
    "\n",
    "# Cat names below threshold are replaced with 'Known'\n",
    "cat_names = cat['Name'].value_counts()\n",
    "cat_names = cat_names[cat_names < 50]\n",
    "cat_names = list(cat_names.index)\n",
    "cat['Name'].replace(to_replace=cat_names, value='Known', inplace=True)\n",
    "\n",
    "# Cat names with NaN replaced with 'Unknown'\n",
    "cat['Name'] = cat['Name'].fillna('Unknown')\n",
    "\n",
    "# Split dataset into features and target variable\n",
    "cat_y = cat[['OutcomeType']]\n",
    "cat = cat.drop(['AnimalID', 'DateTime', 'OutcomeType', 'OutcomeSubtype'], axis=1)\n",
    "\n",
    "# Convert age to number of days\n",
    "cat['AgeuponOutcome'] = cat['AgeuponOutcome'].apply(util.convertAgeToDays)\n",
    "\n",
    "# 'Mix' and '/' removed from Breed and Color features\n",
    "cat['Breed'] = cat['Breed'].apply(util.getBreed)\n",
    "cat['Color'] = cat['Color'].apply(util.getColor)\n",
    "\n",
    "# Cat breeds below threshold are replaced with 'Other'\n",
    "cat_breeds = cat['Breed'].value_counts()\n",
    "cat_breeds = cat_breeds[cat_breeds < 50]\n",
    "cat_breeds = list(cat_breeds.index)\n",
    "cat['Breed'].replace(to_replace=cat_breeds, value='Other', inplace=True)\n",
    "\n",
    "# Cat colors below threshold are replaced with 'Other'\n",
    "cat_colors = cat['Color'].value_counts()\n",
    "cat_colors = cat_colors[cat_colors < 50]\n",
    "cat_colors = list(cat_colors.index)\n",
    "cat['Color'].replace(to_replace=cat_colors, value='Other', inplace=True)\n",
    "\n",
    "# Scale AgeuponOutcome for Cats\n",
    "scaler = MinMaxScaler()\n",
    "cat_scaled = pd.DataFrame(data=cat)\n",
    "numerical = ['AgeuponOutcome']\n",
    "cat_scaled[numerical] = scaler.fit_transform(cat[numerical])\n",
    "\n",
    "# Implement one-hot encoding for categorical features\n",
    "cat_final = pd.get_dummies(cat_scaled)"
   ]
  },
  {
   "cell_type": "markdown",
   "metadata": {},
   "source": [
    "### Dog"
   ]
  },
  {
   "cell_type": "code",
   "execution_count": 46,
   "metadata": {},
   "outputs": [],
   "source": [
    "# Create new dataframe\n",
    "dog = data.copy()\n",
    "\n",
    "# Narrow dataframe to 'Dog' only\n",
    "dog = dog[dog['AnimalType'] == 'Dog']\n",
    "\n",
    "# Drop observations from features with NaN\n",
    "dog = dog.dropna(subset=['AgeuponOutcome', 'SexuponOutcome'])\n",
    "\n",
    "# Filter out observations with 'Unknown'\n",
    "dog = dog[dog['SexuponOutcome'] != 'Unknown']\n",
    "\n",
    "# Dog names below threshold are replaced with 'Known'\n",
    "dog_names = dog['Name'].value_counts()\n",
    "dog_names = dog_names[dog_names < 200]\n",
    "dog_names = list(dog_names.index)\n",
    "dog['Name'].replace(to_replace=dog_names, value='Known', inplace=True)\n",
    "\n",
    "# Dog names with NaN replaced with 'Unknown'\n",
    "dog['Name'] = dog['Name'].fillna('Unknown')\n",
    "\n",
    "# Split dataset into features and target variable\n",
    "dog_y = dog[['OutcomeType']]\n",
    "dog = dog.drop(['AnimalID', 'DateTime', 'OutcomeType', 'OutcomeSubtype'], axis=1)\n",
    "\n",
    "# Convert AgeuponOutcome to number of days\n",
    "dog['AgeuponOutcome'] = dog['AgeuponOutcome'].apply(util.convertAgeToDays)\n",
    "\n",
    "# 'Mix' and '/' removed from Breed and Color features\n",
    "dog['Breed'] = dog['Breed'].apply(util.getBreed)\n",
    "dog['Color'] = dog['Color'].apply(util.getColor)\n",
    "\n",
    "# Dog breeds below threshold are replaced with 'Other'\n",
    "dog_breeds = dog['Breed'].value_counts()\n",
    "dog_breeds = dog_breeds[dog_breeds < 50]\n",
    "dog_breeds = list(dog_breeds.index)\n",
    "dog['Breed'].replace(to_replace=dog_breeds, value='Other', inplace=True)\n",
    "\n",
    "# Dog colors below threshold are replaced with 'Other'\n",
    "dog_colors = dog['Color'].value_counts()\n",
    "dog_colors = dog_colors[dog_colors < 50]\n",
    "dog_colors = list(dog_colors.index)\n",
    "dog['Color'].replace(to_replace=dog_colors, value='Other', inplace=True)\n",
    "\n",
    "# Scale AgeuponOutcome for Dogs\n",
    "scaler = MinMaxScaler()\n",
    "dog_scaled = pd.DataFrame(data=dog)\n",
    "numerical = ['AgeuponOutcome']\n",
    "dog_scaled[numerical] = scaler.fit_transform(dog[numerical])\n",
    "\n",
    "# Implement one-hot encoding for categorical features\n",
    "dog_final = pd.get_dummies(dog_scaled)"
   ]
  },
  {
   "cell_type": "markdown",
   "metadata": {},
   "source": [
    "## Evaluate Algorithms\n",
    "\n",
    "For algorithm evaluation, I used a 60/40 training/validation dataset split. The evaluation metric used was accuracy. I used k-fold cross validation.\n",
    "\n",
    "For my benchmark, I used a Logistic Regression algorithm.\n",
    "\n",
    "The Machine Learning algorithms I decided to use were:\n",
    "- Decision Tree\n",
    "- KNeighbors\n",
    "- XGBoost\n",
    "- Naive Bayes\n",
    "- Support-Vector Machines"
   ]
  },
  {
   "cell_type": "code",
   "execution_count": 54,
   "metadata": {},
   "outputs": [],
   "source": [
    "def modelSelection(final_x, final_y):\n",
    "    \n",
    "    # Split into train and test set\n",
    "    X_train, X_test, y_train, y_test = train_test_split(final_x, final_y, test_size=0.40, random_state=42)\n",
    "\n",
    "    # Spot-check algorithms\n",
    "    models = []\n",
    "    models.append(('LG', LogisticRegression(solver='liblinear', multi_class='ovr'))) # Benchmark model\n",
    "    models.append(('CART', DecisionTreeClassifier()))\n",
    "    models.append(('KNN', KNeighborsClassifier()))\n",
    "    models.append(('XGB', XGBClassifier()))\n",
    "    models.append(('NB', GaussianNB()))\n",
    "    models.append(('SVM', SVC(gamma='auto')))\n",
    "\n",
    "    results = []\n",
    "    names = []\n",
    "\n",
    "    for name, model in models:\n",
    "        kfold = KFold(n_splits=5, random_state=42)\n",
    "        cv_results = cross_val_score(model, X_train, y_train.values.ravel(), cv=kfold, scoring='accuracy')\n",
    "        results.append(cv_results)\n",
    "        names.append(name)\n",
    "    \n",
    "        print('{}: {}'.format(name, cv_results.mean()))"
   ]
  },
  {
   "cell_type": "code",
   "execution_count": 55,
   "metadata": {},
   "outputs": [
    {
     "name": "stdout",
     "output_type": "stream",
     "text": [
      "LG: 0.7234051352373491\n",
      "CART: 0.7174676700975952\n",
      "KNN: 0.7062483165051872\n",
      "XGB: 0.7433612487382292\n",
      "NB: 0.31865570728548537\n",
      "SVM: 0.7204372869273736\n"
     ]
    }
   ],
   "source": [
    "modelSelection(cat_final, cat_y)"
   ]
  },
  {
   "cell_type": "code",
   "execution_count": 56,
   "metadata": {},
   "outputs": [
    {
     "name": "stdout",
     "output_type": "stream",
     "text": [
      "LG: 0.5616076154152941\n",
      "CART: 0.5189597544948577\n",
      "KNN: 0.5105825898899393\n",
      "XGB: 0.5632189593504757\n",
      "NB: 0.0755192656547333\n",
      "SVM: 0.5360405889214477\n"
     ]
    }
   ],
   "source": [
    "modelSelection(dog_final, dog_y)"
   ]
  },
  {
   "cell_type": "markdown",
   "metadata": {},
   "source": [
    "## Algorithm Improvement\n",
    "\n",
    "In order to improve the algorithm, I used hyperparameter tuning and Ensemble method comparison.\n",
    "\n",
    "The Ensemble methods I decided to use were:\n",
    "- AdaBoost\n",
    "- Gradient Boosting\n",
    "- Random Forest\n",
    "- Extra Trees\n"
   ]
  },
  {
   "cell_type": "code",
   "execution_count": 60,
   "metadata": {
    "scrolled": true
   },
   "outputs": [
    {
     "name": "stdout",
     "output_type": "stream",
     "text": [
      "Best: 0.740722 using {'gamma': 0.3, 'learning_rate': 0.05, 'min_child_weight': 1, 'subsample': 0.5}\n",
      "0.738743, (0.003231) with: {'gamma': 0.0, 'learning_rate': 0.05, 'min_child_weight': 1, 'subsample': 0.25}\n",
      "0.739931, (0.002648) with: {'gamma': 0.0, 'learning_rate': 0.05, 'min_child_weight': 1, 'subsample': 0.5}\n",
      "0.739634, (0.003175) with: {'gamma': 0.0, 'learning_rate': 0.05, 'min_child_weight': 1, 'subsample': 0.75}\n",
      "0.738149, (0.003213) with: {'gamma': 0.0, 'learning_rate': 0.05, 'min_child_weight': 3, 'subsample': 0.25}\n",
      "0.740228, (0.002589) with: {'gamma': 0.0, 'learning_rate': 0.05, 'min_child_weight': 3, 'subsample': 0.5}\n",
      "0.739931, (0.003035) with: {'gamma': 0.0, 'learning_rate': 0.05, 'min_child_weight': 3, 'subsample': 0.75}\n",
      "0.739931, (0.002118) with: {'gamma': 0.0, 'learning_rate': 0.05, 'min_child_weight': 5, 'subsample': 0.25}\n",
      "0.740129, (0.003324) with: {'gamma': 0.0, 'learning_rate': 0.05, 'min_child_weight': 5, 'subsample': 0.5}\n",
      "0.739337, (0.002229) with: {'gamma': 0.0, 'learning_rate': 0.05, 'min_child_weight': 5, 'subsample': 0.75}\n",
      "0.737259, (0.004486) with: {'gamma': 0.0, 'learning_rate': 0.1, 'min_child_weight': 1, 'subsample': 0.25}\n",
      "0.738842, (0.004944) with: {'gamma': 0.0, 'learning_rate': 0.1, 'min_child_weight': 1, 'subsample': 0.5}\n",
      "0.736764, (0.002358) with: {'gamma': 0.0, 'learning_rate': 0.1, 'min_child_weight': 1, 'subsample': 0.75}\n",
      "0.737655, (0.004154) with: {'gamma': 0.0, 'learning_rate': 0.1, 'min_child_weight': 3, 'subsample': 0.25}\n",
      "0.739139, (0.004499) with: {'gamma': 0.0, 'learning_rate': 0.1, 'min_child_weight': 3, 'subsample': 0.5}\n",
      "0.737259, (0.003068) with: {'gamma': 0.0, 'learning_rate': 0.1, 'min_child_weight': 3, 'subsample': 0.75}\n",
      "0.735280, (0.004382) with: {'gamma': 0.0, 'learning_rate': 0.1, 'min_child_weight': 5, 'subsample': 0.25}\n",
      "0.738644, (0.005129) with: {'gamma': 0.0, 'learning_rate': 0.1, 'min_child_weight': 5, 'subsample': 0.5}\n",
      "0.738347, (0.004531) with: {'gamma': 0.0, 'learning_rate': 0.1, 'min_child_weight': 5, 'subsample': 0.75}\n",
      "0.736170, (0.001045) with: {'gamma': 0.0, 'learning_rate': 0.15, 'min_child_weight': 1, 'subsample': 0.25}\n",
      "0.735082, (0.003493) with: {'gamma': 0.0, 'learning_rate': 0.15, 'min_child_weight': 1, 'subsample': 0.5}\n",
      "0.737259, (0.003523) with: {'gamma': 0.0, 'learning_rate': 0.15, 'min_child_weight': 1, 'subsample': 0.75}\n",
      "0.734983, (0.001642) with: {'gamma': 0.0, 'learning_rate': 0.15, 'min_child_weight': 3, 'subsample': 0.25}\n",
      "0.736863, (0.002499) with: {'gamma': 0.0, 'learning_rate': 0.15, 'min_child_weight': 3, 'subsample': 0.5}\n",
      "0.736170, (0.003153) with: {'gamma': 0.0, 'learning_rate': 0.15, 'min_child_weight': 3, 'subsample': 0.75}\n",
      "0.734785, (0.002945) with: {'gamma': 0.0, 'learning_rate': 0.15, 'min_child_weight': 5, 'subsample': 0.25}\n",
      "0.736269, (0.003547) with: {'gamma': 0.0, 'learning_rate': 0.15, 'min_child_weight': 5, 'subsample': 0.5}\n",
      "0.737556, (0.002698) with: {'gamma': 0.0, 'learning_rate': 0.15, 'min_child_weight': 5, 'subsample': 0.75}\n",
      "0.738941, (0.002957) with: {'gamma': 0.1, 'learning_rate': 0.05, 'min_child_weight': 1, 'subsample': 0.25}\n",
      "0.739337, (0.003231) with: {'gamma': 0.1, 'learning_rate': 0.05, 'min_child_weight': 1, 'subsample': 0.5}\n",
      "0.739634, (0.002799) with: {'gamma': 0.1, 'learning_rate': 0.05, 'min_child_weight': 1, 'subsample': 0.75}\n",
      "0.738347, (0.003187) with: {'gamma': 0.1, 'learning_rate': 0.05, 'min_child_weight': 3, 'subsample': 0.25}\n",
      "0.740030, (0.002918) with: {'gamma': 0.1, 'learning_rate': 0.05, 'min_child_weight': 3, 'subsample': 0.5}\n",
      "0.739832, (0.003046) with: {'gamma': 0.1, 'learning_rate': 0.05, 'min_child_weight': 3, 'subsample': 0.75}\n",
      "0.740129, (0.001838) with: {'gamma': 0.1, 'learning_rate': 0.05, 'min_child_weight': 5, 'subsample': 0.25}\n",
      "0.740623, (0.003029) with: {'gamma': 0.1, 'learning_rate': 0.05, 'min_child_weight': 5, 'subsample': 0.5}\n",
      "0.739733, (0.002788) with: {'gamma': 0.1, 'learning_rate': 0.05, 'min_child_weight': 5, 'subsample': 0.75}\n",
      "0.737259, (0.003884) with: {'gamma': 0.1, 'learning_rate': 0.1, 'min_child_weight': 1, 'subsample': 0.25}\n",
      "0.738743, (0.004334) with: {'gamma': 0.1, 'learning_rate': 0.1, 'min_child_weight': 1, 'subsample': 0.5}\n",
      "0.737556, (0.003183) with: {'gamma': 0.1, 'learning_rate': 0.1, 'min_child_weight': 1, 'subsample': 0.75}\n",
      "0.737160, (0.005015) with: {'gamma': 0.1, 'learning_rate': 0.1, 'min_child_weight': 3, 'subsample': 0.25}\n",
      "0.739238, (0.004927) with: {'gamma': 0.1, 'learning_rate': 0.1, 'min_child_weight': 3, 'subsample': 0.5}\n",
      "0.738050, (0.003084) with: {'gamma': 0.1, 'learning_rate': 0.1, 'min_child_weight': 3, 'subsample': 0.75}\n",
      "0.736467, (0.004251) with: {'gamma': 0.1, 'learning_rate': 0.1, 'min_child_weight': 5, 'subsample': 0.25}\n",
      "0.738842, (0.005212) with: {'gamma': 0.1, 'learning_rate': 0.1, 'min_child_weight': 5, 'subsample': 0.5}\n",
      "0.738842, (0.003921) with: {'gamma': 0.1, 'learning_rate': 0.1, 'min_child_weight': 5, 'subsample': 0.75}\n",
      "0.735477, (0.001384) with: {'gamma': 0.1, 'learning_rate': 0.15, 'min_child_weight': 1, 'subsample': 0.25}\n",
      "0.734389, (0.003694) with: {'gamma': 0.1, 'learning_rate': 0.15, 'min_child_weight': 1, 'subsample': 0.5}\n",
      "0.736665, (0.003449) with: {'gamma': 0.1, 'learning_rate': 0.15, 'min_child_weight': 1, 'subsample': 0.75}\n",
      "0.734983, (0.001812) with: {'gamma': 0.1, 'learning_rate': 0.15, 'min_child_weight': 3, 'subsample': 0.25}\n",
      "0.736368, (0.003312) with: {'gamma': 0.1, 'learning_rate': 0.15, 'min_child_weight': 3, 'subsample': 0.5}\n",
      "0.736665, (0.002333) with: {'gamma': 0.1, 'learning_rate': 0.15, 'min_child_weight': 3, 'subsample': 0.75}\n",
      "0.735280, (0.002990) with: {'gamma': 0.1, 'learning_rate': 0.15, 'min_child_weight': 5, 'subsample': 0.25}\n",
      "0.735972, (0.004059) with: {'gamma': 0.1, 'learning_rate': 0.15, 'min_child_weight': 5, 'subsample': 0.5}\n",
      "0.737457, (0.003098) with: {'gamma': 0.1, 'learning_rate': 0.15, 'min_child_weight': 5, 'subsample': 0.75}\n",
      "0.738248, (0.003027) with: {'gamma': 0.2, 'learning_rate': 0.05, 'min_child_weight': 1, 'subsample': 0.25}\n",
      "0.740129, (0.002914) with: {'gamma': 0.2, 'learning_rate': 0.05, 'min_child_weight': 1, 'subsample': 0.5}\n",
      "0.739634, (0.002934) with: {'gamma': 0.2, 'learning_rate': 0.05, 'min_child_weight': 1, 'subsample': 0.75}\n",
      "0.738248, (0.003305) with: {'gamma': 0.2, 'learning_rate': 0.05, 'min_child_weight': 3, 'subsample': 0.25}\n",
      "0.739535, (0.003255) with: {'gamma': 0.2, 'learning_rate': 0.05, 'min_child_weight': 3, 'subsample': 0.5}\n",
      "0.739832, (0.003046) with: {'gamma': 0.2, 'learning_rate': 0.05, 'min_child_weight': 3, 'subsample': 0.75}\n",
      "0.740129, (0.001635) with: {'gamma': 0.2, 'learning_rate': 0.05, 'min_child_weight': 5, 'subsample': 0.25}\n",
      "0.740030, (0.003663) with: {'gamma': 0.2, 'learning_rate': 0.05, 'min_child_weight': 5, 'subsample': 0.5}\n",
      "0.739733, (0.002788) with: {'gamma': 0.2, 'learning_rate': 0.05, 'min_child_weight': 5, 'subsample': 0.75}\n",
      "0.736170, (0.002627) with: {'gamma': 0.2, 'learning_rate': 0.1, 'min_child_weight': 1, 'subsample': 0.25}\n",
      "0.738644, (0.005064) with: {'gamma': 0.2, 'learning_rate': 0.1, 'min_child_weight': 1, 'subsample': 0.5}\n",
      "0.736467, (0.002459) with: {'gamma': 0.2, 'learning_rate': 0.1, 'min_child_weight': 1, 'subsample': 0.75}\n",
      "0.735774, (0.003690) with: {'gamma': 0.2, 'learning_rate': 0.1, 'min_child_weight': 3, 'subsample': 0.25}\n",
      "0.737457, (0.004516) with: {'gamma': 0.2, 'learning_rate': 0.1, 'min_child_weight': 3, 'subsample': 0.5}\n",
      "0.737754, (0.002382) with: {'gamma': 0.2, 'learning_rate': 0.1, 'min_child_weight': 3, 'subsample': 0.75}\n",
      "0.736566, (0.003633) with: {'gamma': 0.2, 'learning_rate': 0.1, 'min_child_weight': 5, 'subsample': 0.25}\n",
      "0.738545, (0.004499) with: {'gamma': 0.2, 'learning_rate': 0.1, 'min_child_weight': 5, 'subsample': 0.5}\n",
      "0.739436, (0.004188) with: {'gamma': 0.2, 'learning_rate': 0.1, 'min_child_weight': 5, 'subsample': 0.75}\n",
      "0.735082, (0.001790) with: {'gamma': 0.2, 'learning_rate': 0.15, 'min_child_weight': 1, 'subsample': 0.25}\n",
      "0.734983, (0.004529) with: {'gamma': 0.2, 'learning_rate': 0.15, 'min_child_weight': 1, 'subsample': 0.5}\n",
      "0.737160, (0.002952) with: {'gamma': 0.2, 'learning_rate': 0.15, 'min_child_weight': 1, 'subsample': 0.75}\n",
      "0.735082, (0.001749) with: {'gamma': 0.2, 'learning_rate': 0.15, 'min_child_weight': 3, 'subsample': 0.25}\n",
      "0.736566, (0.002859) with: {'gamma': 0.2, 'learning_rate': 0.15, 'min_child_weight': 3, 'subsample': 0.5}\n",
      "0.736962, (0.002728) with: {'gamma': 0.2, 'learning_rate': 0.15, 'min_child_weight': 3, 'subsample': 0.75}\n",
      "0.736269, (0.001444) with: {'gamma': 0.2, 'learning_rate': 0.15, 'min_child_weight': 5, 'subsample': 0.25}\n",
      "0.736170, (0.003948) with: {'gamma': 0.2, 'learning_rate': 0.15, 'min_child_weight': 5, 'subsample': 0.5}\n",
      "0.736962, (0.001960) with: {'gamma': 0.2, 'learning_rate': 0.15, 'min_child_weight': 5, 'subsample': 0.75}\n",
      "0.738743, (0.003231) with: {'gamma': 0.3, 'learning_rate': 0.05, 'min_child_weight': 1, 'subsample': 0.25}\n",
      "0.740722, (0.001748) with: {'gamma': 0.3, 'learning_rate': 0.05, 'min_child_weight': 1, 'subsample': 0.5}\n",
      "0.739733, (0.002788) with: {'gamma': 0.3, 'learning_rate': 0.05, 'min_child_weight': 1, 'subsample': 0.75}\n",
      "0.738842, (0.002512) with: {'gamma': 0.3, 'learning_rate': 0.05, 'min_child_weight': 3, 'subsample': 0.25}\n",
      "0.739931, (0.002776) with: {'gamma': 0.3, 'learning_rate': 0.05, 'min_child_weight': 3, 'subsample': 0.5}\n",
      "0.739931, (0.002909) with: {'gamma': 0.3, 'learning_rate': 0.05, 'min_child_weight': 3, 'subsample': 0.75}\n",
      "0.740228, (0.001698) with: {'gamma': 0.3, 'learning_rate': 0.05, 'min_child_weight': 5, 'subsample': 0.25}\n",
      "0.740129, (0.003104) with: {'gamma': 0.3, 'learning_rate': 0.05, 'min_child_weight': 5, 'subsample': 0.5}\n",
      "0.739535, (0.002911) with: {'gamma': 0.3, 'learning_rate': 0.05, 'min_child_weight': 5, 'subsample': 0.75}\n",
      "0.735477, (0.002893) with: {'gamma': 0.3, 'learning_rate': 0.1, 'min_child_weight': 1, 'subsample': 0.25}\n",
      "0.738347, (0.004881) with: {'gamma': 0.3, 'learning_rate': 0.1, 'min_child_weight': 1, 'subsample': 0.5}\n",
      "0.737952, (0.003966) with: {'gamma': 0.3, 'learning_rate': 0.1, 'min_child_weight': 1, 'subsample': 0.75}\n",
      "0.735972, (0.003555) with: {'gamma': 0.3, 'learning_rate': 0.1, 'min_child_weight': 3, 'subsample': 0.25}\n",
      "0.738149, (0.005106) with: {'gamma': 0.3, 'learning_rate': 0.1, 'min_child_weight': 3, 'subsample': 0.5}\n",
      "0.737952, (0.003562) with: {'gamma': 0.3, 'learning_rate': 0.1, 'min_child_weight': 3, 'subsample': 0.75}\n",
      "0.736962, (0.004323) with: {'gamma': 0.3, 'learning_rate': 0.1, 'min_child_weight': 5, 'subsample': 0.25}\n",
      "0.738545, (0.004578) with: {'gamma': 0.3, 'learning_rate': 0.1, 'min_child_weight': 5, 'subsample': 0.5}\n",
      "0.738842, (0.004154) with: {'gamma': 0.3, 'learning_rate': 0.1, 'min_child_weight': 5, 'subsample': 0.75}\n",
      "0.734785, (0.001858) with: {'gamma': 0.3, 'learning_rate': 0.15, 'min_child_weight': 1, 'subsample': 0.25}\n",
      "0.735774, (0.003554) with: {'gamma': 0.3, 'learning_rate': 0.15, 'min_child_weight': 1, 'subsample': 0.5}\n",
      "0.737160, (0.003162) with: {'gamma': 0.3, 'learning_rate': 0.15, 'min_child_weight': 1, 'subsample': 0.75}\n",
      "0.734785, (0.001909) with: {'gamma': 0.3, 'learning_rate': 0.15, 'min_child_weight': 3, 'subsample': 0.25}\n",
      "0.736467, (0.003027) with: {'gamma': 0.3, 'learning_rate': 0.15, 'min_child_weight': 3, 'subsample': 0.5}\n",
      "0.735675, (0.002703) with: {'gamma': 0.3, 'learning_rate': 0.15, 'min_child_weight': 3, 'subsample': 0.75}\n",
      "0.734587, (0.003694) with: {'gamma': 0.3, 'learning_rate': 0.15, 'min_child_weight': 5, 'subsample': 0.25}\n",
      "0.735675, (0.003818) with: {'gamma': 0.3, 'learning_rate': 0.15, 'min_child_weight': 5, 'subsample': 0.5}\n",
      "0.736467, (0.002627) with: {'gamma': 0.3, 'learning_rate': 0.15, 'min_child_weight': 5, 'subsample': 0.75}\n"
     ]
    }
   ],
   "source": [
    "# Cat\n",
    "learning_rate = [0.05, 0.10, 0.15]\n",
    "min_child_weight = [1, 3, 5]\n",
    "gamma = [0.0, 0.1, 0.2, 0.3]\n",
    "sample = [0.25, 0.50, 0.75]\n",
    "param_grid = dict(learning_rate=learning_rate, min_child_weight=min_child_weight, subsample=sample, gamma=gamma)\n",
    "model = XGBClassifier()\n",
    "kfold = KFold(n_splits=3, random_state=42)\n",
    "grid = GridSearchCV(estimator=model, param_grid=param_grid, scoring='accuracy', cv=kfold, iid=True)\n",
    "grid_result = grid.fit(cat_final, cat_y.values.ravel())\n",
    "\n",
    "print('Best: %f using %s' % (grid_result.best_score_, grid_result.best_params_))\n",
    "means = grid_result.cv_results_['mean_test_score']\n",
    "stds = grid_result.cv_results_['std_test_score']\n",
    "params = grid_result.cv_results_['params']\n",
    "for mean, stdev, param in zip(means, stds, params):\n",
    "    print('%f, (%f) with: %r' % (mean, stdev, param))"
   ]
  },
  {
   "cell_type": "code",
   "execution_count": 61,
   "metadata": {
    "scrolled": true
   },
   "outputs": [
    {
     "name": "stdout",
     "output_type": "stream",
     "text": [
      "Best: 0.578371 using {'gamma': 0.3, 'learning_rate': 0.15, 'min_child_weight': 1, 'subsample': 0.75}\n",
      "0.573279, (0.006430) with: {'gamma': 0.0, 'learning_rate': 0.05, 'min_child_weight': 1, 'subsample': 0.25}\n",
      "0.573344, (0.006216) with: {'gamma': 0.0, 'learning_rate': 0.05, 'min_child_weight': 1, 'subsample': 0.5}\n",
      "0.572312, (0.006213) with: {'gamma': 0.0, 'learning_rate': 0.05, 'min_child_weight': 1, 'subsample': 0.75}\n",
      "0.572764, (0.006752) with: {'gamma': 0.0, 'learning_rate': 0.05, 'min_child_weight': 3, 'subsample': 0.25}\n",
      "0.572570, (0.006609) with: {'gamma': 0.0, 'learning_rate': 0.05, 'min_child_weight': 3, 'subsample': 0.5}\n",
      "0.572248, (0.006475) with: {'gamma': 0.0, 'learning_rate': 0.05, 'min_child_weight': 3, 'subsample': 0.75}\n",
      "0.572506, (0.006737) with: {'gamma': 0.0, 'learning_rate': 0.05, 'min_child_weight': 5, 'subsample': 0.25}\n",
      "0.572312, (0.006289) with: {'gamma': 0.0, 'learning_rate': 0.05, 'min_child_weight': 5, 'subsample': 0.5}\n",
      "0.572377, (0.006325) with: {'gamma': 0.0, 'learning_rate': 0.05, 'min_child_weight': 5, 'subsample': 0.75}\n",
      "0.573730, (0.005165) with: {'gamma': 0.0, 'learning_rate': 0.1, 'min_child_weight': 1, 'subsample': 0.25}\n",
      "0.576502, (0.005322) with: {'gamma': 0.0, 'learning_rate': 0.1, 'min_child_weight': 1, 'subsample': 0.5}\n",
      "0.575342, (0.006992) with: {'gamma': 0.0, 'learning_rate': 0.1, 'min_child_weight': 1, 'subsample': 0.75}\n",
      "0.572312, (0.005044) with: {'gamma': 0.0, 'learning_rate': 0.1, 'min_child_weight': 3, 'subsample': 0.25}\n",
      "0.575084, (0.005258) with: {'gamma': 0.0, 'learning_rate': 0.1, 'min_child_weight': 3, 'subsample': 0.5}\n",
      "0.574697, (0.006776) with: {'gamma': 0.0, 'learning_rate': 0.1, 'min_child_weight': 3, 'subsample': 0.75}\n",
      "0.572312, (0.005690) with: {'gamma': 0.0, 'learning_rate': 0.1, 'min_child_weight': 5, 'subsample': 0.25}\n",
      "0.574697, (0.006244) with: {'gamma': 0.0, 'learning_rate': 0.1, 'min_child_weight': 5, 'subsample': 0.5}\n",
      "0.575857, (0.006665) with: {'gamma': 0.0, 'learning_rate': 0.1, 'min_child_weight': 5, 'subsample': 0.75}\n",
      "0.572441, (0.002963) with: {'gamma': 0.0, 'learning_rate': 0.15, 'min_child_weight': 1, 'subsample': 0.25}\n",
      "0.575728, (0.003659) with: {'gamma': 0.0, 'learning_rate': 0.15, 'min_child_weight': 1, 'subsample': 0.5}\n",
      "0.578113, (0.004970) with: {'gamma': 0.0, 'learning_rate': 0.15, 'min_child_weight': 1, 'subsample': 0.75}\n",
      "0.571990, (0.003767) with: {'gamma': 0.0, 'learning_rate': 0.15, 'min_child_weight': 3, 'subsample': 0.25}\n",
      "0.575148, (0.003922) with: {'gamma': 0.0, 'learning_rate': 0.15, 'min_child_weight': 3, 'subsample': 0.5}\n",
      "0.576695, (0.005580) with: {'gamma': 0.0, 'learning_rate': 0.15, 'min_child_weight': 3, 'subsample': 0.75}\n",
      "0.571797, (0.003973) with: {'gamma': 0.0, 'learning_rate': 0.15, 'min_child_weight': 5, 'subsample': 0.25}\n",
      "0.574633, (0.004114) with: {'gamma': 0.0, 'learning_rate': 0.15, 'min_child_weight': 5, 'subsample': 0.5}\n",
      "0.575599, (0.004962) with: {'gamma': 0.0, 'learning_rate': 0.15, 'min_child_weight': 5, 'subsample': 0.75}\n",
      "0.573021, (0.006107) with: {'gamma': 0.1, 'learning_rate': 0.05, 'min_child_weight': 1, 'subsample': 0.25}\n",
      "0.573215, (0.006012) with: {'gamma': 0.1, 'learning_rate': 0.05, 'min_child_weight': 1, 'subsample': 0.5}\n",
      "0.572377, (0.006270) with: {'gamma': 0.1, 'learning_rate': 0.05, 'min_child_weight': 1, 'subsample': 0.75}\n",
      "0.572506, (0.006157) with: {'gamma': 0.1, 'learning_rate': 0.05, 'min_child_weight': 3, 'subsample': 0.25}\n",
      "0.572828, (0.006794) with: {'gamma': 0.1, 'learning_rate': 0.05, 'min_child_weight': 3, 'subsample': 0.5}\n",
      "0.572377, (0.006475) with: {'gamma': 0.1, 'learning_rate': 0.05, 'min_child_weight': 3, 'subsample': 0.75}\n",
      "0.572506, (0.006865) with: {'gamma': 0.1, 'learning_rate': 0.05, 'min_child_weight': 5, 'subsample': 0.25}\n",
      "0.572312, (0.006307) with: {'gamma': 0.1, 'learning_rate': 0.05, 'min_child_weight': 5, 'subsample': 0.5}\n",
      "0.572312, (0.006049) with: {'gamma': 0.1, 'learning_rate': 0.05, 'min_child_weight': 5, 'subsample': 0.75}\n",
      "0.572828, (0.004469) with: {'gamma': 0.1, 'learning_rate': 0.1, 'min_child_weight': 1, 'subsample': 0.25}\n",
      "0.575277, (0.005340) with: {'gamma': 0.1, 'learning_rate': 0.1, 'min_child_weight': 1, 'subsample': 0.5}\n",
      "0.575084, (0.006835) with: {'gamma': 0.1, 'learning_rate': 0.1, 'min_child_weight': 1, 'subsample': 0.75}\n",
      "0.572957, (0.004356) with: {'gamma': 0.1, 'learning_rate': 0.1, 'min_child_weight': 3, 'subsample': 0.25}\n",
      "0.574633, (0.005374) with: {'gamma': 0.1, 'learning_rate': 0.1, 'min_child_weight': 3, 'subsample': 0.5}\n",
      "0.575148, (0.007105) with: {'gamma': 0.1, 'learning_rate': 0.1, 'min_child_weight': 3, 'subsample': 0.75}\n",
      "0.573150, (0.005368) with: {'gamma': 0.1, 'learning_rate': 0.1, 'min_child_weight': 5, 'subsample': 0.25}\n",
      "0.574117, (0.004477) with: {'gamma': 0.1, 'learning_rate': 0.1, 'min_child_weight': 5, 'subsample': 0.5}\n",
      "0.575084, (0.006713) with: {'gamma': 0.1, 'learning_rate': 0.1, 'min_child_weight': 5, 'subsample': 0.75}\n",
      "0.571023, (0.002234) with: {'gamma': 0.1, 'learning_rate': 0.15, 'min_child_weight': 1, 'subsample': 0.25}\n",
      "0.575857, (0.004010) with: {'gamma': 0.1, 'learning_rate': 0.15, 'min_child_weight': 1, 'subsample': 0.5}\n",
      "0.578306, (0.004594) with: {'gamma': 0.1, 'learning_rate': 0.15, 'min_child_weight': 1, 'subsample': 0.75}\n",
      "0.572570, (0.003601) with: {'gamma': 0.1, 'learning_rate': 0.15, 'min_child_weight': 3, 'subsample': 0.25}\n",
      "0.574826, (0.003315) with: {'gamma': 0.1, 'learning_rate': 0.15, 'min_child_weight': 3, 'subsample': 0.5}\n",
      "0.576888, (0.005308) with: {'gamma': 0.1, 'learning_rate': 0.15, 'min_child_weight': 3, 'subsample': 0.75}\n",
      "0.571668, (0.002722) with: {'gamma': 0.1, 'learning_rate': 0.15, 'min_child_weight': 5, 'subsample': 0.25}\n",
      "0.575084, (0.003350) with: {'gamma': 0.1, 'learning_rate': 0.15, 'min_child_weight': 5, 'subsample': 0.5}\n",
      "0.574826, (0.005217) with: {'gamma': 0.1, 'learning_rate': 0.15, 'min_child_weight': 5, 'subsample': 0.75}\n",
      "0.573021, (0.006109) with: {'gamma': 0.2, 'learning_rate': 0.05, 'min_child_weight': 1, 'subsample': 0.25}\n",
      "0.573086, (0.005879) with: {'gamma': 0.2, 'learning_rate': 0.05, 'min_child_weight': 1, 'subsample': 0.5}\n",
      "0.572312, (0.006213) with: {'gamma': 0.2, 'learning_rate': 0.05, 'min_child_weight': 1, 'subsample': 0.75}\n",
      "0.572635, (0.006684) with: {'gamma': 0.2, 'learning_rate': 0.05, 'min_child_weight': 3, 'subsample': 0.25}\n",
      "0.572635, (0.006256) with: {'gamma': 0.2, 'learning_rate': 0.05, 'min_child_weight': 3, 'subsample': 0.5}\n",
      "0.572184, (0.006147) with: {'gamma': 0.2, 'learning_rate': 0.05, 'min_child_weight': 3, 'subsample': 0.75}\n",
      "0.572312, (0.006711) with: {'gamma': 0.2, 'learning_rate': 0.05, 'min_child_weight': 5, 'subsample': 0.25}\n",
      "0.571797, (0.005958) with: {'gamma': 0.2, 'learning_rate': 0.05, 'min_child_weight': 5, 'subsample': 0.5}\n",
      "0.572248, (0.006236) with: {'gamma': 0.2, 'learning_rate': 0.05, 'min_child_weight': 5, 'subsample': 0.75}\n",
      "0.573150, (0.004427) with: {'gamma': 0.2, 'learning_rate': 0.1, 'min_child_weight': 1, 'subsample': 0.25}\n",
      "0.575277, (0.005222) with: {'gamma': 0.2, 'learning_rate': 0.1, 'min_child_weight': 1, 'subsample': 0.5}\n",
      "0.575277, (0.006893) with: {'gamma': 0.2, 'learning_rate': 0.1, 'min_child_weight': 1, 'subsample': 0.75}\n",
      "0.573215, (0.004336) with: {'gamma': 0.2, 'learning_rate': 0.1, 'min_child_weight': 3, 'subsample': 0.25}\n",
      "0.575664, (0.005784) with: {'gamma': 0.2, 'learning_rate': 0.1, 'min_child_weight': 3, 'subsample': 0.5}\n",
      "0.574246, (0.006385) with: {'gamma': 0.2, 'learning_rate': 0.1, 'min_child_weight': 3, 'subsample': 0.75}\n",
      "0.572312, (0.005133) with: {'gamma': 0.2, 'learning_rate': 0.1, 'min_child_weight': 5, 'subsample': 0.25}\n",
      "0.573924, (0.004747) with: {'gamma': 0.2, 'learning_rate': 0.1, 'min_child_weight': 5, 'subsample': 0.5}\n",
      "0.575213, (0.006655) with: {'gamma': 0.2, 'learning_rate': 0.1, 'min_child_weight': 5, 'subsample': 0.75}\n",
      "0.572055, (0.003464) with: {'gamma': 0.2, 'learning_rate': 0.15, 'min_child_weight': 1, 'subsample': 0.25}\n",
      "0.574697, (0.004356) with: {'gamma': 0.2, 'learning_rate': 0.15, 'min_child_weight': 1, 'subsample': 0.5}\n",
      "0.577275, (0.004533) with: {'gamma': 0.2, 'learning_rate': 0.15, 'min_child_weight': 1, 'subsample': 0.75}\n",
      "0.573408, (0.003517) with: {'gamma': 0.2, 'learning_rate': 0.15, 'min_child_weight': 3, 'subsample': 0.25}\n",
      "0.574504, (0.003521) with: {'gamma': 0.2, 'learning_rate': 0.15, 'min_child_weight': 3, 'subsample': 0.5}\n",
      "0.576888, (0.005640) with: {'gamma': 0.2, 'learning_rate': 0.15, 'min_child_weight': 3, 'subsample': 0.75}\n",
      "0.573601, (0.002708) with: {'gamma': 0.2, 'learning_rate': 0.15, 'min_child_weight': 5, 'subsample': 0.25}\n",
      "0.575470, (0.004774) with: {'gamma': 0.2, 'learning_rate': 0.15, 'min_child_weight': 5, 'subsample': 0.5}\n",
      "0.575793, (0.004786) with: {'gamma': 0.2, 'learning_rate': 0.15, 'min_child_weight': 5, 'subsample': 0.75}\n",
      "0.572957, (0.006200) with: {'gamma': 0.3, 'learning_rate': 0.05, 'min_child_weight': 1, 'subsample': 0.25}\n",
      "0.573473, (0.006024) with: {'gamma': 0.3, 'learning_rate': 0.05, 'min_child_weight': 1, 'subsample': 0.5}\n",
      "0.572441, (0.006158) with: {'gamma': 0.3, 'learning_rate': 0.05, 'min_child_weight': 1, 'subsample': 0.75}\n",
      "0.572828, (0.006388) with: {'gamma': 0.3, 'learning_rate': 0.05, 'min_child_weight': 3, 'subsample': 0.25}\n",
      "0.572635, (0.006115) with: {'gamma': 0.3, 'learning_rate': 0.05, 'min_child_weight': 3, 'subsample': 0.5}\n",
      "0.571861, (0.005723) with: {'gamma': 0.3, 'learning_rate': 0.05, 'min_child_weight': 3, 'subsample': 0.75}\n",
      "0.572119, (0.006711) with: {'gamma': 0.3, 'learning_rate': 0.05, 'min_child_weight': 5, 'subsample': 0.25}\n",
      "0.572441, (0.006382) with: {'gamma': 0.3, 'learning_rate': 0.05, 'min_child_weight': 5, 'subsample': 0.5}\n",
      "0.572119, (0.006116) with: {'gamma': 0.3, 'learning_rate': 0.05, 'min_child_weight': 5, 'subsample': 0.75}\n",
      "0.574181, (0.004063) with: {'gamma': 0.3, 'learning_rate': 0.1, 'min_child_weight': 1, 'subsample': 0.25}\n",
      "0.575213, (0.004894) with: {'gamma': 0.3, 'learning_rate': 0.1, 'min_child_weight': 1, 'subsample': 0.5}\n",
      "0.575019, (0.007048) with: {'gamma': 0.3, 'learning_rate': 0.1, 'min_child_weight': 1, 'subsample': 0.75}\n",
      "0.571926, (0.004204) with: {'gamma': 0.3, 'learning_rate': 0.1, 'min_child_weight': 3, 'subsample': 0.25}\n",
      "0.575470, (0.005249) with: {'gamma': 0.3, 'learning_rate': 0.1, 'min_child_weight': 3, 'subsample': 0.5}\n",
      "0.575019, (0.006982) with: {'gamma': 0.3, 'learning_rate': 0.1, 'min_child_weight': 3, 'subsample': 0.75}\n",
      "0.572377, (0.005249) with: {'gamma': 0.3, 'learning_rate': 0.1, 'min_child_weight': 5, 'subsample': 0.25}\n",
      "0.575084, (0.005960) with: {'gamma': 0.3, 'learning_rate': 0.1, 'min_child_weight': 5, 'subsample': 0.5}\n",
      "0.575664, (0.006835) with: {'gamma': 0.3, 'learning_rate': 0.1, 'min_child_weight': 5, 'subsample': 0.75}\n",
      "0.574246, (0.002739) with: {'gamma': 0.3, 'learning_rate': 0.15, 'min_child_weight': 1, 'subsample': 0.25}\n",
      "0.574762, (0.003531) with: {'gamma': 0.3, 'learning_rate': 0.15, 'min_child_weight': 1, 'subsample': 0.5}\n",
      "0.578371, (0.004295) with: {'gamma': 0.3, 'learning_rate': 0.15, 'min_child_weight': 1, 'subsample': 0.75}\n",
      "0.572184, (0.001830) with: {'gamma': 0.3, 'learning_rate': 0.15, 'min_child_weight': 3, 'subsample': 0.25}\n",
      "0.574955, (0.003659) with: {'gamma': 0.3, 'learning_rate': 0.15, 'min_child_weight': 3, 'subsample': 0.5}\n",
      "0.576308, (0.005580) with: {'gamma': 0.3, 'learning_rate': 0.15, 'min_child_weight': 3, 'subsample': 0.75}\n",
      "0.571732, (0.002855) with: {'gamma': 0.3, 'learning_rate': 0.15, 'min_child_weight': 5, 'subsample': 0.25}\n",
      "0.573988, (0.003783) with: {'gamma': 0.3, 'learning_rate': 0.15, 'min_child_weight': 5, 'subsample': 0.5}\n",
      "0.575470, (0.004568) with: {'gamma': 0.3, 'learning_rate': 0.15, 'min_child_weight': 5, 'subsample': 0.75}\n"
     ]
    }
   ],
   "source": [
    "# Dog\n",
    "learning_rate = [0.05, 0.10, 0.15]\n",
    "min_child_weight = [1, 3, 5]\n",
    "gamma = [0.0, 0.1, 0.2, 0.3]\n",
    "sample = [0.25, 0.50, 0.75]\n",
    "param_grid = dict(learning_rate=learning_rate, min_child_weight=min_child_weight, subsample=sample, gamma=gamma)\n",
    "model = XGBClassifier()\n",
    "kfold = KFold(n_splits=3, random_state=42)\n",
    "grid = GridSearchCV(estimator=model, param_grid=param_grid, scoring='accuracy', cv=kfold, iid=True)\n",
    "grid_result = grid.fit(dog_final, dog_y.values.ravel())\n",
    "\n",
    "print('Best: %f using %s' % (grid_result.best_score_, grid_result.best_params_))\n",
    "means = grid_result.cv_results_['mean_test_score']\n",
    "stds = grid_result.cv_results_['std_test_score']\n",
    "params = grid_result.cv_results_['params']\n",
    "for mean, stdev, param in zip(means, stds, params):\n",
    "    print('%f, (%f) with: %r' % (mean, stdev, param))"
   ]
  },
  {
   "cell_type": "code",
   "execution_count": 62,
   "metadata": {},
   "outputs": [],
   "source": [
    "def modelEnsemble(final_x, final_y):\n",
    "    \n",
    "    # Split into train and test set\n",
    "    X_train, X_test, y_train, y_test = train_test_split(final_x, final_y, test_size=0.40, random_state=42)\n",
    "\n",
    "    # Ensembles\n",
    "    ensembles = []\n",
    "    ensembles.append(('AB', AdaBoostClassifier()))\n",
    "    ensembles.append(('GBM', GradientBoostingClassifier()))\n",
    "    ensembles.append(('RF', RandomForestClassifier(n_estimators=10)))\n",
    "    ensembles.append(('ET', ExtraTreesClassifier(n_estimators=10)))\n",
    "\n",
    "    results = []\n",
    "    names = []\n",
    "\n",
    "    for name, model in ensembles:\n",
    "        kfold = KFold(n_splits=5, random_state=42)\n",
    "        cv_results = cross_val_score(model, X_train, y_train.values.ravel(), cv=kfold, scoring='accuracy')\n",
    "        results.append(cv_results)\n",
    "        names.append(name)\n",
    "    \n",
    "        print('{} {}'.format(name, cv_results.mean()))\n",
    "        \n",
    "    return X_train, X_test, y_train, y_test"
   ]
  },
  {
   "cell_type": "code",
   "execution_count": 63,
   "metadata": {},
   "outputs": [
    {
     "name": "stdout",
     "output_type": "stream",
     "text": [
      "AB 0.693385871975491\n",
      "GBM 0.7389074356734933\n",
      "RF 0.716643811949208\n",
      "ET 0.7199411491025443\n"
     ]
    }
   ],
   "source": [
    "cat_x_train, cat_x_test, cat_y_train, cat_y_test = modelEnsemble(cat_final, cat_y)"
   ]
  },
  {
   "cell_type": "code",
   "execution_count": 64,
   "metadata": {},
   "outputs": [
    {
     "name": "stdout",
     "output_type": "stream",
     "text": [
      "AB 0.5381888166335852\n",
      "GBM 0.563111663398921\n",
      "RF 0.5227195570102812\n",
      "ET 0.5171336455054887\n"
     ]
    }
   ],
   "source": [
    "dog_x_train, dog_x_test, dog_y_train, dog_y_test = modelEnsemble(dog_final, dog_y)"
   ]
  },
  {
   "cell_type": "markdown",
   "metadata": {},
   "source": [
    "### Model Finalization\n"
   ]
  },
  {
   "cell_type": "code",
   "execution_count": 71,
   "metadata": {},
   "outputs": [
    {
     "name": "stdout",
     "output_type": "stream",
     "text": [
      "Cat Benchmark------------------------------------------\n",
      "Accuracy: 0.7179614052449282\n",
      "F1 Score: 0.6800011960087967\n",
      "Cat Model------------------------------------------\n"
     ]
    },
    {
     "name": "stderr",
     "output_type": "stream",
     "text": [
      "C:\\Users\\paperspace\\Anaconda3\\lib\\site-packages\\sklearn\\metrics\\classification.py:1437: UndefinedMetricWarning: F-score is ill-defined and being set to 0.0 in labels with no predicted samples.\n",
      "  'precision', 'predicted', average, warn_for)\n"
     ]
    },
    {
     "name": "stdout",
     "output_type": "stream",
     "text": [
      "Accuracy: 0.739980207817912\n",
      "F1 Score: 0.7034159514762209\n"
     ]
    }
   ],
   "source": [
    "# Prepare the benchmark\n",
    "print('Cat Benchmark------------------------------------------')\n",
    "benchmark = LogisticRegression(solver='liblinear', multi_class='ovr')\n",
    "benchmark.fit(cat_x_train, cat_y_train.values.ravel())\n",
    "\n",
    "# Estimate accuracy on validation dataset\n",
    "predictions = benchmark.predict(cat_x_test)\n",
    "print('Accuracy:', accuracy_score(cat_y_test, predictions))\n",
    "print('F1 Score:', f1_score(cat_y_test, predictions, average='weighted'))\n",
    "\n",
    "# Prepare the model\n",
    "print('Cat Model------------------------------------------')\n",
    "model = XGBClassifier()\n",
    "model.fit(cat_x_train, cat_y_train.values.ravel())\n",
    "\n",
    "# Estimate accuracy on validation dataset\n",
    "predictions = model.predict(cat_x_test)\n",
    "print('Accuracy:', accuracy_score(cat_y_test, predictions))\n",
    "print('F1 Score:', f1_score(cat_y_test, predictions, average='weighted'))"
   ]
  },
  {
   "cell_type": "code",
   "execution_count": 72,
   "metadata": {},
   "outputs": [
    {
     "name": "stdout",
     "output_type": "stream",
     "text": [
      "Dog Benchmark------------------------------------------\n",
      "Accuracy: 0.5783792492347349\n"
     ]
    },
    {
     "name": "stderr",
     "output_type": "stream",
     "text": [
      "C:\\Users\\paperspace\\Anaconda3\\lib\\site-packages\\sklearn\\metrics\\classification.py:1437: UndefinedMetricWarning: F-score is ill-defined and being set to 0.0 in labels with no predicted samples.\n",
      "  'precision', 'predicted', average, warn_for)\n"
     ]
    },
    {
     "name": "stdout",
     "output_type": "stream",
     "text": [
      "F1 Score: 0.5436504242105691\n",
      "Dog Model------------------------------------------\n",
      "Accuracy: 0.5832125020138553\n",
      "F1 Score: 0.5600396584941758\n"
     ]
    }
   ],
   "source": [
    "# Prepare the benchmark\n",
    "print('Dog Benchmark------------------------------------------')\n",
    "benchmark = LogisticRegression(solver='liblinear', multi_class='ovr')\n",
    "benchmark.fit(dog_x_train, dog_y_train.values.ravel())\n",
    "\n",
    "# Estimate accuracy on validation dataset\n",
    "predictions = benchmark.predict(dog_x_test)\n",
    "print('Accuracy:', accuracy_score(dog_y_test, predictions))\n",
    "print('F1 Score:', f1_score(dog_y_test, predictions, average='weighted'))\n",
    "\n",
    "# Prepare the model\n",
    "print('Dog Model------------------------------------------')\n",
    "model = XGBClassifier(gamma=0.3, learning_rate=0.15, min_child_weight=1, subsample=0.75)\n",
    "model.fit(dog_x_train, dog_y_train.values.ravel())\n",
    "\n",
    "# Estimate accuracy on validation dataset\n",
    "predictions = model.predict(dog_x_test)\n",
    "print('Accuracy:', accuracy_score(dog_y_test, predictions))\n",
    "print('F1 Score:', f1_score(dog_y_test, predictions, average='weighted'))"
   ]
  }
 ],
 "metadata": {
  "kernelspec": {
   "display_name": "Python 3",
   "language": "python",
   "name": "python3"
  },
  "language_info": {
   "codemirror_mode": {
    "name": "ipython",
    "version": 3
   },
   "file_extension": ".py",
   "mimetype": "text/x-python",
   "name": "python",
   "nbconvert_exporter": "python",
   "pygments_lexer": "ipython3",
   "version": "3.7.3"
  }
 },
 "nbformat": 4,
 "nbformat_minor": 2
}
